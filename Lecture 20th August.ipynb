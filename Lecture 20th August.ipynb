{
 "cells": [
  {
   "cell_type": "markdown",
   "id": "d1e73d52-ace8-4ca9-be9e-dfcc8124f39d",
   "metadata": {},
   "source": [
    "Systems Check\n",
    "\n",
    "Yusuf Khan 811286910\n",
    "\n",
    "20th August"
   ]
  },
  {
   "cell_type": "code",
   "execution_count": 75,
   "id": "c47a6f5a-dbaa-4014-a141-00536e03c6f0",
   "metadata": {},
   "outputs": [],
   "source": [
    "x = 3"
   ]
  },
  {
   "cell_type": "code",
   "execution_count": 76,
   "id": "b2b3cbb8-4ee9-45e5-8db9-3c010f1dac49",
   "metadata": {},
   "outputs": [
    {
     "data": {
      "text/plain": [
       "3"
      ]
     },
     "execution_count": 76,
     "metadata": {},
     "output_type": "execute_result"
    }
   ],
   "source": [
    "x"
   ]
  },
  {
   "cell_type": "code",
   "execution_count": 77,
   "id": "b1684f34-f2e9-407a-bd0f-f929c34bac2e",
   "metadata": {},
   "outputs": [],
   "source": [
    "my_list = [2,3,4,5]"
   ]
  },
  {
   "cell_type": "code",
   "execution_count": 78,
   "id": "0eace661-78a6-40b3-ad02-55b3c6d2d72b",
   "metadata": {},
   "outputs": [
    {
     "data": {
      "text/plain": [
       "2"
      ]
     },
     "execution_count": 78,
     "metadata": {},
     "output_type": "execute_result"
    }
   ],
   "source": [
    "my_list[0]"
   ]
  },
  {
   "cell_type": "code",
   "execution_count": 79,
   "id": "1ab94ccc-e556-4079-b542-29447c4d390a",
   "metadata": {},
   "outputs": [],
   "source": [
    "my_name = \"Yusuf\""
   ]
  },
  {
   "cell_type": "code",
   "execution_count": 80,
   "id": "c7903111-5b47-4fc8-aa8e-674f76fec12f",
   "metadata": {},
   "outputs": [],
   "source": [
    "def display_name(x):\n",
    "    print(x)"
   ]
  },
  {
   "cell_type": "code",
   "execution_count": 81,
   "id": "6eb5500c-9db0-46d6-95ef-4bdc98fbc648",
   "metadata": {},
   "outputs": [
    {
     "name": "stdout",
     "output_type": "stream",
     "text": [
      "Yusuf\n"
     ]
    }
   ],
   "source": [
    "display_name(my_name)"
   ]
  },
  {
   "cell_type": "code",
   "execution_count": 82,
   "id": "c4c221bd-cf9f-49fb-83f6-e593d28daded",
   "metadata": {},
   "outputs": [],
   "source": [
    "def change_name(x):\n",
    "    new_name= x + 'new'\n",
    "    return new_name"
   ]
  },
  {
   "cell_type": "code",
   "execution_count": 83,
   "id": "425a5f37-df8c-4915-ad57-3c0a0438fcb6",
   "metadata": {},
   "outputs": [
    {
     "data": {
      "text/plain": [
       "'Yusuf_new'"
      ]
     },
     "execution_count": 83,
     "metadata": {},
     "output_type": "execute_result"
    }
   ],
   "source": [
    "changed_name = change_name('Yusuf_')\n",
    "changed_name"
   ]
  },
  {
   "cell_type": "code",
   "execution_count": null,
   "id": "cd41b0c3-ba39-480d-bf5c-f6277ee01356",
   "metadata": {},
   "outputs": [],
   "source": []
  }
 ],
 "metadata": {
  "kernelspec": {
   "display_name": "Python 3 (ipykernel)",
   "language": "python",
   "name": "python3"
  },
  "language_info": {
   "codemirror_mode": {
    "name": "ipython",
    "version": 3
   },
   "file_extension": ".py",
   "mimetype": "text/x-python",
   "name": "python",
   "nbconvert_exporter": "python",
   "pygments_lexer": "ipython3",
   "version": "3.12.4"
  }
 },
 "nbformat": 4,
 "nbformat_minor": 5
}
