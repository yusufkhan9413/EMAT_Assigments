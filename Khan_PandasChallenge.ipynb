{
 "cells": [
  {
   "cell_type": "markdown",
   "id": "1ff0fdf8-f18a-4da4-90c5-4d0fc6ceaf3a",
   "metadata": {},
   "source": [
    "Pandas Challenge\n",
    "\n",
    "Yusuf Khan 811286910"
   ]
  },
  {
   "cell_type": "code",
   "execution_count": 22,
   "id": "f1be4009-7fb5-4e25-a82e-a5eaa968be5b",
   "metadata": {},
   "outputs": [],
   "source": [
    "import pandas as pd"
   ]
  },
  {
   "cell_type": "code",
   "execution_count": 23,
   "id": "7e837c9c-1938-431e-a5d2-c77f84899699",
   "metadata": {},
   "outputs": [],
   "source": [
    "my_data = {'Numbers':[1,2,3],\n",
    "            'Fruits':['apples','oranges','banana'],\n",
    "            'Names':['Anna','Sarah','Lilli']}  #{} is a dictionary\n",
    "my_df = pd.DataFrame(my_data)"
   ]
  },
  {
   "cell_type": "code",
   "execution_count": 24,
   "id": "08a3d61e-922b-480f-b89a-3cbc326b49e9",
   "metadata": {},
   "outputs": [
    {
     "data": {
      "text/html": [
       "<div>\n",
       "<style scoped>\n",
       "    .dataframe tbody tr th:only-of-type {\n",
       "        vertical-align: middle;\n",
       "    }\n",
       "\n",
       "    .dataframe tbody tr th {\n",
       "        vertical-align: top;\n",
       "    }\n",
       "\n",
       "    .dataframe thead th {\n",
       "        text-align: right;\n",
       "    }\n",
       "</style>\n",
       "<table border=\"1\" class=\"dataframe\">\n",
       "  <thead>\n",
       "    <tr style=\"text-align: right;\">\n",
       "      <th></th>\n",
       "      <th>Numbers</th>\n",
       "      <th>Fruits</th>\n",
       "      <th>Names</th>\n",
       "    </tr>\n",
       "  </thead>\n",
       "  <tbody>\n",
       "    <tr>\n",
       "      <th>0</th>\n",
       "      <td>1</td>\n",
       "      <td>apples</td>\n",
       "      <td>Anna</td>\n",
       "    </tr>\n",
       "  </tbody>\n",
       "</table>\n",
       "</div>"
      ],
      "text/plain": [
       "   Numbers  Fruits Names\n",
       "0        1  apples  Anna"
      ]
     },
     "execution_count": 24,
     "metadata": {},
     "output_type": "execute_result"
    }
   ],
   "source": [
    "my_df.head(1) #first five by default"
   ]
  },
  {
   "cell_type": "code",
   "execution_count": 25,
   "id": "81eeb19b-f587-46da-9b72-e74513089bde",
   "metadata": {},
   "outputs": [
    {
     "data": {
      "text/html": [
       "<div>\n",
       "<style scoped>\n",
       "    .dataframe tbody tr th:only-of-type {\n",
       "        vertical-align: middle;\n",
       "    }\n",
       "\n",
       "    .dataframe tbody tr th {\n",
       "        vertical-align: top;\n",
       "    }\n",
       "\n",
       "    .dataframe thead th {\n",
       "        text-align: right;\n",
       "    }\n",
       "</style>\n",
       "<table border=\"1\" class=\"dataframe\">\n",
       "  <thead>\n",
       "    <tr style=\"text-align: right;\">\n",
       "      <th></th>\n",
       "      <th>Numbers</th>\n",
       "      <th>Fruits</th>\n",
       "      <th>Names</th>\n",
       "    </tr>\n",
       "  </thead>\n",
       "  <tbody>\n",
       "    <tr>\n",
       "      <th>2</th>\n",
       "      <td>3</td>\n",
       "      <td>banana</td>\n",
       "      <td>Lilli</td>\n",
       "    </tr>\n",
       "  </tbody>\n",
       "</table>\n",
       "</div>"
      ],
      "text/plain": [
       "   Numbers  Fruits  Names\n",
       "2        3  banana  Lilli"
      ]
     },
     "execution_count": 25,
     "metadata": {},
     "output_type": "execute_result"
    }
   ],
   "source": [
    "my_df.tail(1) #last five by default"
   ]
  },
  {
   "cell_type": "code",
   "execution_count": 26,
   "id": "aa19eb73-8bd9-4c51-bafe-b4e58b04fbfb",
   "metadata": {},
   "outputs": [
    {
     "data": {
      "text/plain": [
       "RangeIndex(start=0, stop=3, step=1)"
      ]
     },
     "execution_count": 26,
     "metadata": {},
     "output_type": "execute_result"
    }
   ],
   "source": [
    "my_df.index #will return the index of the dataframe"
   ]
  },
  {
   "cell_type": "code",
   "execution_count": 27,
   "id": "57360f8c-deb5-46ba-bfdb-78e60d25a47d",
   "metadata": {},
   "outputs": [
    {
     "data": {
      "text/plain": [
       "0    1\n",
       "1    2\n",
       "2    3\n",
       "Name: Numbers, dtype: int64"
      ]
     },
     "execution_count": 27,
     "metadata": {},
     "output_type": "execute_result"
    }
   ],
   "source": [
    "my_df['Numbers'] #will return the First column"
   ]
  },
  {
   "cell_type": "code",
   "execution_count": 28,
   "id": "ed8e95e2-ad00-49b0-ba1b-a27fe1a973e3",
   "metadata": {},
   "outputs": [
    {
     "data": {
      "text/plain": [
       "Numbers         1\n",
       "Fruits     apples\n",
       "Names        Anna\n",
       "Name: 0, dtype: object"
      ]
     },
     "execution_count": 28,
     "metadata": {},
     "output_type": "execute_result"
    }
   ],
   "source": [
    "my_df.loc[0] #loc takes the index of a row and the gives the label location of a row"
   ]
  },
  {
   "cell_type": "code",
   "execution_count": 29,
   "id": "d91d1fa8-0aab-4120-8c79-a75b30c79eda",
   "metadata": {},
   "outputs": [
    {
     "data": {
      "text/plain": [
       "Numbers         1\n",
       "Fruits     apples\n",
       "Names        Anna\n",
       "Name: 0, dtype: object"
      ]
     },
     "execution_count": 29,
     "metadata": {},
     "output_type": "execute_result"
    }
   ],
   "source": [
    "my_df.iloc[0] #is the current posiotn of the row"
   ]
  },
  {
   "cell_type": "code",
   "execution_count": 30,
   "id": "8955d6a5-5f96-4cf1-9c7d-7a6e8d1ffedb",
   "metadata": {},
   "outputs": [
    {
     "data": {
      "text/html": [
       "<div>\n",
       "<style scoped>\n",
       "    .dataframe tbody tr th:only-of-type {\n",
       "        vertical-align: middle;\n",
       "    }\n",
       "\n",
       "    .dataframe tbody tr th {\n",
       "        vertical-align: top;\n",
       "    }\n",
       "\n",
       "    .dataframe thead th {\n",
       "        text-align: right;\n",
       "    }\n",
       "</style>\n",
       "<table border=\"1\" class=\"dataframe\">\n",
       "  <thead>\n",
       "    <tr style=\"text-align: right;\">\n",
       "      <th></th>\n",
       "      <th>Numbers</th>\n",
       "      <th>Fruits</th>\n",
       "      <th>Names</th>\n",
       "    </tr>\n",
       "  </thead>\n",
       "  <tbody>\n",
       "    <tr>\n",
       "      <th>0</th>\n",
       "      <td>1</td>\n",
       "      <td>apples</td>\n",
       "      <td>Anna</td>\n",
       "    </tr>\n",
       "    <tr>\n",
       "      <th>1</th>\n",
       "      <td>2</td>\n",
       "      <td>oranges</td>\n",
       "      <td>Sarah</td>\n",
       "    </tr>\n",
       "    <tr>\n",
       "      <th>2</th>\n",
       "      <td>3</td>\n",
       "      <td>banana</td>\n",
       "      <td>Lilli</td>\n",
       "    </tr>\n",
       "  </tbody>\n",
       "</table>\n",
       "</div>"
      ],
      "text/plain": [
       "   Numbers   Fruits  Names\n",
       "0        1   apples   Anna\n",
       "1        2  oranges  Sarah\n",
       "2        3   banana  Lilli"
      ]
     },
     "execution_count": 30,
     "metadata": {},
     "output_type": "execute_result"
    }
   ],
   "source": [
    "my_data2 = [{'Numbers':1, 'Fruits':'apples', 'Names':'Anna'},\n",
    "            {'Numbers':2, 'Fruits':'oranges', 'Names':'Sarah'},\n",
    "            {'Numbers':3, 'Fruits':'banana', 'Names':'Lilli'}]\n",
    "\n",
    "my_df2 = pd.DataFrame(my_data2)\n",
    "my_df2.head()"
   ]
  },
  {
   "cell_type": "code",
   "execution_count": 31,
   "id": "c4585670-533d-4126-af77-62167bc6df2c",
   "metadata": {},
   "outputs": [],
   "source": [
    "my_df.to_csv('Khan_PandasChallenge.csv')  # to save the dataframe as a csv file"
   ]
  },
  {
   "cell_type": "markdown",
   "id": "effb78d2-9175-442e-8936-4f7cb89a5fe2",
   "metadata": {},
   "source": [
    "**What does the \"write/render/evaluate\" loop provide for creators of interactive data visualizations?**\n",
    "\n",
    "\n",
    "Our role is to conceptualize, craft, and write out the rules of the systemm which is then finally,executed by the software(Murray S, 2017). This loop of   write/render/evaluate involves writing the code to create the visualization, rendering it to see the output, and then evaluating the result to determine whether or not if it meets the desired objectives. This is an iterative process that allows for continuous improvement, allowing us to adjus  visualizations based on feedback, understanding and make them more effective and engaging."
   ]
  },
  {
   "cell_type": "markdown",
   "id": "a53b086e-f360-4eff-a98a-276fbe1aff9a",
   "metadata": {},
   "source": [
    "**Why are dynamic, interactive data visualizations useful when communicating data?**\n",
    "\n",
    "An interactive visualization that offers an overview of the data alongside tools for “drilling down” into the details may successfully fulfill many roles at once, addressing the different concerns of different audiences, be they those new to the subject matter or already deeply familiar with the data. Interactive visualization can be a great medium for engaging an audience who might not otherwise care about the topic or data at hand. (Murray. S, 2017)"
   ]
  },
  {
   "cell_type": "markdown",
   "id": "60e792e2-dcb8-4b98-8ef1-870939428e37",
   "metadata": {},
   "source": [
    "**Do you agree with Murray's claim that open-source tools that avoid proprietary software are best for publishing data visualization? In a few sentences, explain why you do or do not agree.**\n",
    "\n",
    "As Murray said that \"by avoiding proprietary software and plug-ins, you can ensure that your projects are accessible on the widest possible range of devices, from typical desktop computers to tablets and even phones. The more accessible your visualization, the greater your audience and your impact.\"\n",
    "\n",
    "I agree with Murray's claim that open-source tools that avoid proprietary software are better for publishing data visualizations. Open-source tools offer greater flexibility, transparencncy, and accessibility, enabling a wider audience to use, modify, and share visualizations without the limitations imposed by proprietary software. Also, open-source tools encourage collaboration and innovation within the community, leading to the improvement of the tools themselves.\n",
    "\n",
    "However, sometimes proprietary tools may offer features that are more aligned with certain objectives, so it's also important to consider the specific needs of the project."
   ]
  },
  {
   "cell_type": "code",
   "execution_count": null,
   "id": "eb1c8e95-010a-40a6-9c19-01fc1af4f8bf",
   "metadata": {},
   "outputs": [],
   "source": []
  }
 ],
 "metadata": {
  "kernelspec": {
   "display_name": "Python 3 (ipykernel)",
   "language": "python",
   "name": "python3"
  },
  "language_info": {
   "codemirror_mode": {
    "name": "ipython",
    "version": 3
   },
   "file_extension": ".py",
   "mimetype": "text/x-python",
   "name": "python",
   "nbconvert_exporter": "python",
   "pygments_lexer": "ipython3",
   "version": "3.12.4"
  }
 },
 "nbformat": 4,
 "nbformat_minor": 5
}
