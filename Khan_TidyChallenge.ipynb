{
 "cells": [
  {
   "cell_type": "markdown",
   "id": "cdbc543a-db39-474a-a785-29ee125054a9",
   "metadata": {},
   "source": [
    "Tidy Challenge\n",
    "\n",
    "Yusuf Khan 811286910"
   ]
  },
  {
   "cell_type": "code",
   "execution_count": 920,
   "id": "2eaaf524-2520-460b-b87c-68eab19bb770",
   "metadata": {},
   "outputs": [],
   "source": [
    "#importing libraries\n",
    "\n",
    "import pandas as pd\n",
    "import json\n",
    "import collections.abc      # refrence: https://docs.python.org/3/library/collections.abc.html          I used chatGPT for the explaination of this."
   ]
  },
  {
   "cell_type": "code",
   "execution_count": 921,
   "id": "59906bec-6617-42f1-bf50-c30aa530b613",
   "metadata": {},
   "outputs": [],
   "source": [
    "#loading the file and saving that data in the variable called chess_dict\n",
    "\n",
    "with open(\"chessbuds_messages.json\") as j:\n",
    "    chess_dict = json.load(j)            "
   ]
  },
  {
   "cell_type": "code",
   "execution_count": 922,
   "id": "1f6b9961-bc62-40ff-8e3c-6c1845a34e33",
   "metadata": {},
   "outputs": [
    {
     "data": {
      "text/plain": [
       "dict"
      ]
     },
     "execution_count": 922,
     "metadata": {},
     "output_type": "execute_result"
    }
   ],
   "source": [
    "#type of data and here data type is dictionary\n",
    "\n",
    "type(chess_dict)             "
   ]
  },
  {
   "cell_type": "code",
   "execution_count": 923,
   "id": "6e8d9571-5805-4595-8dd3-3883d394e759",
   "metadata": {},
   "outputs": [
    {
     "data": {
      "text/plain": [
       "dict_keys(['participants', 'messages', 'title', 'is_still_participant', 'thread_type', 'thread_path', 'magic_words', 'joinable_mode'])"
      ]
     },
     "execution_count": 923,
     "metadata": {},
     "output_type": "execute_result"
    }
   ],
   "source": [
    "#keys will give us the keys of a dictionary\n",
    "\n",
    "chess_dict.keys()  "
   ]
  },
  {
   "cell_type": "code",
   "execution_count": 924,
   "id": "75349fd3-c3a4-47e5-a97b-dac2a3d1fbbd",
   "metadata": {
    "scrolled": true
   },
   "outputs": [
    {
     "name": "stdout",
     "output_type": "stream",
     "text": [
      "type of participants is <class 'list'>\n",
      "type of messages is <class 'list'>\n",
      "type of title is <class 'str'>\n",
      "type of is_still_participant is <class 'bool'>\n",
      "type of thread_type is <class 'str'>\n",
      "type of thread_path is <class 'str'>\n",
      "type of magic_words is <class 'list'>\n",
      "type of joinable_mode is <class 'dict'>\n"
     ]
    }
   ],
   "source": [
    "#getting type of all the keys\n",
    "\n",
    "#a=type(chess_dict['participants'])\n",
    "\n",
    "print(\"type of participants is\", type(chess_dict['participants']))\n",
    "\n",
    "print(\"type of messages is\", type(chess_dict['messages']))\n",
    "\n",
    "print(\"type of title is\", type(chess_dict['title']))\n",
    "\n",
    "print(\"type of is_still_participant is\", type(chess_dict['is_still_participant']))\n",
    "\n",
    "print(\"type of thread_type is\", type(chess_dict['thread_type']))\n",
    "\n",
    "print(\"type of thread_path is\", type(chess_dict['thread_path']))\n",
    "\n",
    "print(\"type of magic_words is\", type(chess_dict['magic_words']))\n",
    "\n",
    "print(\"type of joinable_mode is\", type(chess_dict['joinable_mode']))"
   ]
  },
  {
   "cell_type": "code",
   "execution_count": 925,
   "id": "08aa323a-9946-4dc8-b6c9-0c43e5ab5eef",
   "metadata": {},
   "outputs": [
    {
     "data": {
      "text/plain": [
       "[{'name': 'Scott Pence'},\n",
       " {'name': 'Chad Larson'},\n",
       " {'name': 'Joanna Rusch'},\n",
       " {'name': 'Angela Babbitt Pence'},\n",
       " {'name': 'David Silva'},\n",
       " {'name': 'Aaron Rusch'},\n",
       " {'name': 'Timothy Vanderpool'}]"
      ]
     },
     "execution_count": 925,
     "metadata": {},
     "output_type": "execute_result"
    }
   ],
   "source": [
    "#list of unique participants\n",
    "\n",
    "chess_dict['participants']           "
   ]
  },
  {
   "cell_type": "code",
   "execution_count": 926,
   "id": "9954af73-8a53-4e73-b4a6-71a44eaee862",
   "metadata": {},
   "outputs": [
    {
     "data": {
      "text/plain": [
       "0"
      ]
     },
     "execution_count": 926,
     "metadata": {},
     "output_type": "execute_result"
    }
   ],
   "source": [
    "#doesn't have any data in it's list so we are not going to focus on that\n",
    "\n",
    "len(chess_dict['magic_words'])       "
   ]
  },
  {
   "cell_type": "code",
   "execution_count": 927,
   "id": "a9515f09-44af-4670-ae11-db61d59acd9b",
   "metadata": {},
   "outputs": [
    {
     "data": {
      "text/plain": [
       "223"
      ]
     },
     "execution_count": 927,
     "metadata": {},
     "output_type": "execute_result"
    }
   ],
   "source": [
    "len(chess_dict['messages'])"
   ]
  },
  {
   "cell_type": "code",
   "execution_count": 928,
   "id": "22aed048-ca61-46e7-9dea-13c8bd09d7e4",
   "metadata": {},
   "outputs": [
    {
     "data": {
      "text/plain": [
       "{'sender_name': 'Joanna Rusch',\n",
       " 'timestamp_ms': 1666374933946,\n",
       " 'content': \"Maybe he just wants to ride the publicity for a bit longer, even if he doesn't get any money from the lawsuit. Like, I didn't know his name before this but I certainly do now.\",\n",
       " 'reactions': [{'reaction': 'ð\\x9f\\x91\\x8d', 'actor': 'Chad Larson'},\n",
       "  {'reaction': 'ð\\x9f\\x91\\x8d', 'actor': 'Chad Larson'}],\n",
       " 'type': 'Generic',\n",
       " 'is_unsent': False,\n",
       " 'is_taken_down': False,\n",
       " 'bumped_message_metadata': {'bumped_message': \"Maybe he just wants to ride the publicity for a bit longer, even if he doesn't get any money from the lawsuit. Like, I didn't know his name before this but I certainly do now.\",\n",
       "  'is_bumped': False}}"
      ]
     },
     "execution_count": 928,
     "metadata": {},
     "output_type": "execute_result"
    }
   ],
   "source": [
    "chess_dict['messages'][0]"
   ]
  },
  {
   "cell_type": "code",
   "execution_count": 929,
   "id": "edbbb931-3ddd-425e-a3e4-d60fa2607531",
   "metadata": {},
   "outputs": [
    {
     "data": {
      "text/html": [
       "<div>\n",
       "<style scoped>\n",
       "    .dataframe tbody tr th:only-of-type {\n",
       "        vertical-align: middle;\n",
       "    }\n",
       "\n",
       "    .dataframe tbody tr th {\n",
       "        vertical-align: top;\n",
       "    }\n",
       "\n",
       "    .dataframe thead th {\n",
       "        text-align: right;\n",
       "    }\n",
       "</style>\n",
       "<table border=\"1\" class=\"dataframe\">\n",
       "  <thead>\n",
       "    <tr style=\"text-align: right;\">\n",
       "      <th></th>\n",
       "      <th>sender_name</th>\n",
       "      <th>timestamp_ms</th>\n",
       "      <th>content</th>\n",
       "      <th>reactions</th>\n",
       "      <th>type</th>\n",
       "      <th>is_unsent</th>\n",
       "      <th>is_taken_down</th>\n",
       "      <th>bumped_message_metadata</th>\n",
       "      <th>share</th>\n",
       "      <th>photos</th>\n",
       "      <th>gifs</th>\n",
       "      <th>users</th>\n",
       "    </tr>\n",
       "  </thead>\n",
       "  <tbody>\n",
       "    <tr>\n",
       "      <th>0</th>\n",
       "      <td>Joanna Rusch</td>\n",
       "      <td>1666374933946</td>\n",
       "      <td>Maybe he just wants to ride the publicity for ...</td>\n",
       "      <td>[{'reaction': 'ð', 'actor': 'Chad Larson'},...</td>\n",
       "      <td>Generic</td>\n",
       "      <td>False</td>\n",
       "      <td>False</td>\n",
       "      <td>{'bumped_message': 'Maybe he just wants to rid...</td>\n",
       "      <td>NaN</td>\n",
       "      <td>NaN</td>\n",
       "      <td>NaN</td>\n",
       "      <td>NaN</td>\n",
       "    </tr>\n",
       "  </tbody>\n",
       "</table>\n",
       "</div>"
      ],
      "text/plain": [
       "    sender_name   timestamp_ms  \\\n",
       "0  Joanna Rusch  1666374933946   \n",
       "\n",
       "                                             content  \\\n",
       "0  Maybe he just wants to ride the publicity for ...   \n",
       "\n",
       "                                           reactions     type  is_unsent  \\\n",
       "0  [{'reaction': 'ð', 'actor': 'Chad Larson'},...  Generic      False   \n",
       "\n",
       "   is_taken_down                            bumped_message_metadata share  \\\n",
       "0          False  {'bumped_message': 'Maybe he just wants to rid...   NaN   \n",
       "\n",
       "  photos gifs users  \n",
       "0    NaN  NaN   NaN  "
      ]
     },
     "execution_count": 929,
     "metadata": {},
     "output_type": "execute_result"
    }
   ],
   "source": [
    "#making dataframe out of the list named \"messages\"\n",
    "\n",
    "chess_df = pd.DataFrame(chess_dict['messages'])   \n",
    "chess_df.head(1)"
   ]
  },
  {
   "cell_type": "code",
   "execution_count": 930,
   "id": "dcf5da28-e41b-43b2-a6e7-225e7827beba",
   "metadata": {},
   "outputs": [
    {
     "data": {
      "text/plain": [
       "dict"
      ]
     },
     "execution_count": 930,
     "metadata": {},
     "output_type": "execute_result"
    }
   ],
   "source": [
    "type(chess_dict['messages'][0]['bumped_message_metadata'])"
   ]
  },
  {
   "cell_type": "code",
   "execution_count": 931,
   "id": "689d38be-7324-4337-9d45-b88c6de4ff85",
   "metadata": {},
   "outputs": [
    {
     "data": {
      "text/plain": [
       "dict_keys(['bumped_message', 'is_bumped'])"
      ]
     },
     "execution_count": 931,
     "metadata": {},
     "output_type": "execute_result"
    }
   ],
   "source": [
    "chess_dict['messages'][0]['bumped_message_metadata'].keys()"
   ]
  },
  {
   "cell_type": "code",
   "execution_count": 932,
   "id": "66e5bace-7580-4b81-9301-f98e1e1dbc11",
   "metadata": {},
   "outputs": [
    {
     "data": {
      "text/html": [
       "<div>\n",
       "<style scoped>\n",
       "    .dataframe tbody tr th:only-of-type {\n",
       "        vertical-align: middle;\n",
       "    }\n",
       "\n",
       "    .dataframe tbody tr th {\n",
       "        vertical-align: top;\n",
       "    }\n",
       "\n",
       "    .dataframe thead th {\n",
       "        text-align: right;\n",
       "    }\n",
       "</style>\n",
       "<table border=\"1\" class=\"dataframe\">\n",
       "  <thead>\n",
       "    <tr style=\"text-align: right;\">\n",
       "      <th></th>\n",
       "      <th>sender_name</th>\n",
       "      <th>timestamp_ms</th>\n",
       "      <th>content</th>\n",
       "      <th>reactions</th>\n",
       "      <th>type</th>\n",
       "      <th>is_unsent</th>\n",
       "      <th>is_taken_down</th>\n",
       "      <th>bumped_message_metadata</th>\n",
       "      <th>share</th>\n",
       "      <th>photos</th>\n",
       "      <th>gifs</th>\n",
       "      <th>users</th>\n",
       "    </tr>\n",
       "  </thead>\n",
       "  <tbody>\n",
       "    <tr>\n",
       "      <th>0</th>\n",
       "      <td>Joanna Rusch</td>\n",
       "      <td>1666374933946</td>\n",
       "      <td>Maybe he just wants to ride the publicity for ...</td>\n",
       "      <td>[{'reaction': 'ð', 'actor': 'Chad Larson'},...</td>\n",
       "      <td>Generic</td>\n",
       "      <td>False</td>\n",
       "      <td>False</td>\n",
       "      <td>False</td>\n",
       "      <td>NaN</td>\n",
       "      <td>NaN</td>\n",
       "      <td>NaN</td>\n",
       "      <td>NaN</td>\n",
       "    </tr>\n",
       "  </tbody>\n",
       "</table>\n",
       "</div>"
      ],
      "text/plain": [
       "    sender_name   timestamp_ms  \\\n",
       "0  Joanna Rusch  1666374933946   \n",
       "\n",
       "                                             content  \\\n",
       "0  Maybe he just wants to ride the publicity for ...   \n",
       "\n",
       "                                           reactions     type  is_unsent  \\\n",
       "0  [{'reaction': 'ð', 'actor': 'Chad Larson'},...  Generic      False   \n",
       "\n",
       "   is_taken_down  bumped_message_metadata share photos gifs users  \n",
       "0          False                    False   NaN    NaN  NaN   NaN  "
      ]
     },
     "execution_count": 932,
     "metadata": {},
     "output_type": "execute_result"
    }
   ],
   "source": [
    "is_or_not_bumped = [x['is_bumped'] if isinstance(x, dict) else None for x in chess_df['bumped_message_metadata']]\n",
    "\n",
    "chess_df['bumped_message_metadata']=is_or_not_bumped\n",
    "\n",
    "chess_df.head(1)"
   ]
  },
  {
   "cell_type": "code",
   "execution_count": 933,
   "id": "3435b9fc-a5a5-4d05-a79a-bf78d0baac50",
   "metadata": {},
   "outputs": [
    {
     "data": {
      "text/plain": [
       "[{'reaction': 'ð\\x9f\\x91\\x8d', 'actor': 'Chad Larson'},\n",
       " {'reaction': 'ð\\x9f\\x91\\x8d', 'actor': 'Chad Larson'}]"
      ]
     },
     "execution_count": 933,
     "metadata": {},
     "output_type": "execute_result"
    }
   ],
   "source": [
    "chess_df['reactions'].iloc[0]"
   ]
  },
  {
   "cell_type": "code",
   "execution_count": 934,
   "id": "20411633-ec7c-47f8-884a-cca48261189f",
   "metadata": {},
   "outputs": [
    {
     "data": {
      "text/plain": [
       "list"
      ]
     },
     "execution_count": 934,
     "metadata": {},
     "output_type": "execute_result"
    }
   ],
   "source": [
    "type(chess_df['reactions'].iloc[0])"
   ]
  },
  {
   "cell_type": "code",
   "execution_count": 935,
   "id": "b3b777da-6729-4576-948e-23ee3edc080c",
   "metadata": {},
   "outputs": [
    {
     "data": {
      "text/plain": [
       "2"
      ]
     },
     "execution_count": 935,
     "metadata": {},
     "output_type": "execute_result"
    }
   ],
   "source": [
    "len(chess_df['reactions'].iloc[0])"
   ]
  },
  {
   "cell_type": "code",
   "execution_count": 936,
   "id": "736c1ad6-771a-47d4-9ab7-e0c49a9afc7d",
   "metadata": {},
   "outputs": [
    {
     "data": {
      "text/html": [
       "<div>\n",
       "<style scoped>\n",
       "    .dataframe tbody tr th:only-of-type {\n",
       "        vertical-align: middle;\n",
       "    }\n",
       "\n",
       "    .dataframe tbody tr th {\n",
       "        vertical-align: top;\n",
       "    }\n",
       "\n",
       "    .dataframe thead th {\n",
       "        text-align: right;\n",
       "    }\n",
       "</style>\n",
       "<table border=\"1\" class=\"dataframe\">\n",
       "  <thead>\n",
       "    <tr style=\"text-align: right;\">\n",
       "      <th></th>\n",
       "      <th>sender_name</th>\n",
       "      <th>timestamp_ms</th>\n",
       "      <th>content</th>\n",
       "      <th>reactions</th>\n",
       "      <th>type</th>\n",
       "      <th>is_unsent</th>\n",
       "      <th>is_taken_down</th>\n",
       "      <th>bumped_message_metadata</th>\n",
       "      <th>share</th>\n",
       "      <th>photos</th>\n",
       "      <th>gifs</th>\n",
       "      <th>users</th>\n",
       "      <th>number_of_reactions</th>\n",
       "    </tr>\n",
       "  </thead>\n",
       "  <tbody>\n",
       "    <tr>\n",
       "      <th>0</th>\n",
       "      <td>Joanna Rusch</td>\n",
       "      <td>1666374933946</td>\n",
       "      <td>Maybe he just wants to ride the publicity for ...</td>\n",
       "      <td>[{'reaction': 'ð', 'actor': 'Chad Larson'},...</td>\n",
       "      <td>Generic</td>\n",
       "      <td>False</td>\n",
       "      <td>False</td>\n",
       "      <td>False</td>\n",
       "      <td>NaN</td>\n",
       "      <td>NaN</td>\n",
       "      <td>NaN</td>\n",
       "      <td>NaN</td>\n",
       "      <td>2</td>\n",
       "    </tr>\n",
       "  </tbody>\n",
       "</table>\n",
       "</div>"
      ],
      "text/plain": [
       "    sender_name   timestamp_ms  \\\n",
       "0  Joanna Rusch  1666374933946   \n",
       "\n",
       "                                             content  \\\n",
       "0  Maybe he just wants to ride the publicity for ...   \n",
       "\n",
       "                                           reactions     type  is_unsent  \\\n",
       "0  [{'reaction': 'ð', 'actor': 'Chad Larson'},...  Generic      False   \n",
       "\n",
       "   is_taken_down  bumped_message_metadata share photos gifs users  \\\n",
       "0          False                    False   NaN    NaN  NaN   NaN   \n",
       "\n",
       "   number_of_reactions  \n",
       "0                    2  "
      ]
     },
     "execution_count": 936,
     "metadata": {},
     "output_type": "execute_result"
    }
   ],
   "source": [
    "#if there is no instance for a row it'll return value zero.\n",
    "\n",
    "num_reactions = [len(x) if isinstance(x, list) else 0 for x in chess_df['reactions']]\n",
    "num_reactions[0:5]\n",
    "\n",
    "chess_df['number_of_reactions']=num_reactions\n",
    "chess_df.head(1)"
   ]
  },
  {
   "cell_type": "code",
   "execution_count": 937,
   "id": "8063f6e8-7c97-44ea-8d56-089234b70ae0",
   "metadata": {},
   "outputs": [
    {
     "data": {
      "text/plain": [
       "['Chad Larson', 'Chad Larson']"
      ]
     },
     "execution_count": 937,
     "metadata": {},
     "output_type": "execute_result"
    }
   ],
   "source": [
    "[x['actor'] for x in chess_df['reactions'].iloc[0]]"
   ]
  },
  {
   "cell_type": "code",
   "execution_count": 938,
   "id": "714e5201-7b70-4021-bbeb-867421547aa7",
   "metadata": {},
   "outputs": [
    {
     "data": {
      "text/plain": [
       "[['Chad Larson', 'Chad Larson'],\n",
       " ['Scott Pence', 'Scott Pence'],\n",
       " ['Scott Pence', 'Scott Pence'],\n",
       " ['Chad Larson', 'Chad Larson'],\n",
       " ['Chad Larson', 'Chad Larson'],\n",
       " ['Joanna Rusch', 'Joanna Rusch'],\n",
       " ['Chad Larson', 'Joanna Rusch', 'Chad Larson', 'Joanna Rusch'],\n",
       " ['Chad Larson', 'Joanna Rusch', 'Chad Larson', 'Joanna Rusch'],\n",
       " ['Chad Larson', 'Scott Pence', 'Chad Larson', 'Scott Pence'],\n",
       " ['Chad Larson', 'Joanna Rusch', 'Chad Larson', 'Joanna Rusch'],\n",
       " ['Scott Pence', 'Scott Pence'],\n",
       " ['Scott Pence', 'Scott Pence'],\n",
       " ['Scott Pence', 'Scott Pence'],\n",
       " ['Joanna Rusch', 'Joanna Rusch'],\n",
       " ['Scott Pence', 'Scott Pence'],\n",
       " ['Joanna Rusch', 'Joanna Rusch'],\n",
       " ['Joanna Rusch', 'Chad Larson', 'Joanna Rusch', 'Chad Larson'],\n",
       " ['Scott Pence', 'Scott Pence'],\n",
       " ['Scott Pence', 'Scott Pence'],\n",
       " ['Joanna Rusch',\n",
       "  'Chad Larson',\n",
       "  'David Silva',\n",
       "  'Joanna Rusch',\n",
       "  'Chad Larson',\n",
       "  'David Silva'],\n",
       " ['Scott Pence', 'Scott Pence'],\n",
       " ['Joanna Rusch', 'Joanna Rusch'],\n",
       " ['Chad Larson', 'Chad Larson'],\n",
       " ['Aaron Rusch', 'Aaron Rusch'],\n",
       " ['Scott Pence', 'Scott Pence'],\n",
       " ['David Silva'],\n",
       " ['Aaron Rusch', 'Joanna Rusch'],\n",
       " ['Scott Pence', 'Joanna Rusch'],\n",
       " ['Joanna Rusch'],\n",
       " ['Scott Pence', 'Chad Larson', 'Joanna Rusch'],\n",
       " ['Chad Larson'],\n",
       " ['Chad Larson'],\n",
       " ['Scott Pence'],\n",
       " ['Angela Babbitt Pence', 'David Silva', 'Scott Pence'],\n",
       " ['Aaron Rusch', 'Chad Larson'],\n",
       " ['Scott Pence'],\n",
       " ['David Silva', 'Chad Larson'],\n",
       " ['Chad Larson'],\n",
       " ['Chad Larson'],\n",
       " ['Scott Pence', 'Chad Larson', 'Joanna Rusch'],\n",
       " ['David Silva', 'Aaron Rusch', 'Scott Pence', 'Chad Larson'],\n",
       " ['Chad Larson'],\n",
       " ['Chad Larson', 'Joanna Rusch'],\n",
       " ['Joanna Rusch'],\n",
       " ['Scott Pence', 'Chad Larson'],\n",
       " ['Scott Pence'],\n",
       " ['Chad Larson'],\n",
       " ['Chad Larson'],\n",
       " ['Chad Larson'],\n",
       " ['Joanna Rusch'],\n",
       " ['Scott Pence'],\n",
       " ['Chad Larson'],\n",
       " ['Chad Larson'],\n",
       " ['Chad Larson'],\n",
       " ['Chad Larson'],\n",
       " ['Scott Pence', 'Joanna Rusch'],\n",
       " ['Scott Pence'],\n",
       " ['Joanna Rusch'],\n",
       " ['Chad Larson'],\n",
       " ['Timothy Vanderpool', 'Scott Pence', 'Chad Larson'],\n",
       " ['Chad Larson', 'Joanna Rusch'],\n",
       " ['Chad Larson'],\n",
       " ['Scott Pence', 'Joanna Rusch'],\n",
       " ['Chad Larson'],\n",
       " ['Joanna Rusch'],\n",
       " ['Chad Larson'],\n",
       " ['Scott Pence'],\n",
       " ['Chad Larson', 'Joanna Rusch'],\n",
       " ['Chad Larson'],\n",
       " ['Scott Pence'],\n",
       " ['Scott Pence'],\n",
       " ['Chad Larson'],\n",
       " ['Chad Larson']]"
      ]
     },
     "execution_count": 938,
     "metadata": {},
     "output_type": "execute_result"
    }
   ],
   "source": [
    "#    if isinstance(x, collections.abc.Iterable): This checks if x is an instance of an iterable (e.g., list, tuple, etc.).,\n",
    "#        The collections.abc.Iterable class is part of Python's collections.abc module, which defines abstract base classes for Python containers.,\n",
    "#        If x is an iterable, it processes the reactions to extract the actors. If x is not iterable (like None or a float), \n",
    "#        it handles this case by using an empty string (else '').,\n",
    "\n",
    "\n",
    "[[y['actor'] for y in x] for x in chess_df['reactions'] if isinstance(x, collections.abc.Iterable)]"
   ]
  },
  {
   "cell_type": "code",
   "execution_count": 939,
   "id": "dd9a79be-7a08-4a0b-b27e-abdf9351a9b3",
   "metadata": {},
   "outputs": [
    {
     "data": {
      "text/plain": [
       "['Chad Larson,Chad Larson',\n",
       " 'Scott Pence,Scott Pence',\n",
       " 'Scott Pence,Scott Pence',\n",
       " 'Chad Larson,Chad Larson',\n",
       " 'Chad Larson,Chad Larson',\n",
       " 'Joanna Rusch,Joanna Rusch',\n",
       " 'Chad Larson,Joanna Rusch,Chad Larson,Joanna Rusch',\n",
       " 'Chad Larson,Joanna Rusch,Chad Larson,Joanna Rusch',\n",
       " 'Chad Larson,Scott Pence,Chad Larson,Scott Pence',\n",
       " 'Chad Larson,Joanna Rusch,Chad Larson,Joanna Rusch',\n",
       " 'Scott Pence,Scott Pence',\n",
       " 'Scott Pence,Scott Pence',\n",
       " 'Scott Pence,Scott Pence',\n",
       " 'Joanna Rusch,Joanna Rusch',\n",
       " 'Scott Pence,Scott Pence',\n",
       " 'Joanna Rusch,Joanna Rusch',\n",
       " 'Joanna Rusch,Chad Larson,Joanna Rusch,Chad Larson',\n",
       " 'Scott Pence,Scott Pence',\n",
       " 'Scott Pence,Scott Pence',\n",
       " 'Joanna Rusch,Chad Larson,David Silva,Joanna Rusch,Chad Larson,David Silva',\n",
       " 'Scott Pence,Scott Pence',\n",
       " 'Joanna Rusch,Joanna Rusch',\n",
       " 'Chad Larson,Chad Larson',\n",
       " 'Aaron Rusch,Aaron Rusch',\n",
       " 'Scott Pence,Scott Pence',\n",
       " 'David Silva',\n",
       " 'Aaron Rusch,Joanna Rusch',\n",
       " 'Scott Pence,Joanna Rusch',\n",
       " 'Joanna Rusch',\n",
       " 'Scott Pence,Chad Larson,Joanna Rusch',\n",
       " 'Chad Larson',\n",
       " 'Chad Larson',\n",
       " 'Scott Pence',\n",
       " 'Angela Babbitt Pence,David Silva,Scott Pence',\n",
       " 'Aaron Rusch,Chad Larson',\n",
       " 'Scott Pence',\n",
       " 'David Silva,Chad Larson',\n",
       " 'Chad Larson',\n",
       " 'Chad Larson',\n",
       " 'Scott Pence,Chad Larson,Joanna Rusch',\n",
       " 'David Silva,Aaron Rusch,Scott Pence,Chad Larson',\n",
       " 'Chad Larson',\n",
       " 'Chad Larson,Joanna Rusch',\n",
       " 'Joanna Rusch',\n",
       " 'Scott Pence,Chad Larson',\n",
       " 'Scott Pence',\n",
       " 'Chad Larson',\n",
       " 'Chad Larson',\n",
       " 'Chad Larson',\n",
       " 'Joanna Rusch',\n",
       " 'Scott Pence',\n",
       " 'Chad Larson',\n",
       " 'Chad Larson',\n",
       " 'Chad Larson',\n",
       " 'Chad Larson',\n",
       " 'Scott Pence,Joanna Rusch',\n",
       " 'Scott Pence',\n",
       " 'Joanna Rusch',\n",
       " 'Chad Larson',\n",
       " 'Timothy Vanderpool,Scott Pence,Chad Larson',\n",
       " 'Chad Larson,Joanna Rusch',\n",
       " 'Chad Larson',\n",
       " 'Scott Pence,Joanna Rusch',\n",
       " 'Chad Larson',\n",
       " 'Joanna Rusch',\n",
       " 'Chad Larson',\n",
       " 'Scott Pence',\n",
       " 'Chad Larson,Joanna Rusch',\n",
       " 'Chad Larson',\n",
       " 'Scott Pence',\n",
       " 'Scott Pence',\n",
       " 'Chad Larson',\n",
       " 'Chad Larson']"
      ]
     },
     "execution_count": 939,
     "metadata": {},
     "output_type": "execute_result"
    }
   ],
   "source": [
    "[','.join([y['actor'] for y in x]) for x in chess_df['reactions'] if isinstance(x, collections.abc.Iterable)]"
   ]
  },
  {
   "cell_type": "code",
   "execution_count": 940,
   "id": "b29158ab-4b31-4b1d-84a0-ef3310b29dfd",
   "metadata": {},
   "outputs": [
    {
     "data": {
      "text/html": [
       "<div>\n",
       "<style scoped>\n",
       "    .dataframe tbody tr th:only-of-type {\n",
       "        vertical-align: middle;\n",
       "    }\n",
       "\n",
       "    .dataframe tbody tr th {\n",
       "        vertical-align: top;\n",
       "    }\n",
       "\n",
       "    .dataframe thead th {\n",
       "        text-align: right;\n",
       "    }\n",
       "</style>\n",
       "<table border=\"1\" class=\"dataframe\">\n",
       "  <thead>\n",
       "    <tr style=\"text-align: right;\">\n",
       "      <th></th>\n",
       "      <th>sender_name</th>\n",
       "      <th>timestamp_ms</th>\n",
       "      <th>content</th>\n",
       "      <th>reactions</th>\n",
       "      <th>type</th>\n",
       "      <th>is_unsent</th>\n",
       "      <th>is_taken_down</th>\n",
       "      <th>bumped_message_metadata</th>\n",
       "      <th>share</th>\n",
       "      <th>photos</th>\n",
       "      <th>gifs</th>\n",
       "      <th>users</th>\n",
       "      <th>number_of_reactions</th>\n",
       "    </tr>\n",
       "  </thead>\n",
       "  <tbody>\n",
       "    <tr>\n",
       "      <th>0</th>\n",
       "      <td>Joanna Rusch</td>\n",
       "      <td>1666374933946</td>\n",
       "      <td>Maybe he just wants to ride the publicity for ...</td>\n",
       "      <td>Chad Larson,Chad Larson</td>\n",
       "      <td>Generic</td>\n",
       "      <td>False</td>\n",
       "      <td>False</td>\n",
       "      <td>False</td>\n",
       "      <td>NaN</td>\n",
       "      <td>NaN</td>\n",
       "      <td>NaN</td>\n",
       "      <td>NaN</td>\n",
       "      <td>2</td>\n",
       "    </tr>\n",
       "    <tr>\n",
       "      <th>1</th>\n",
       "      <td>Chad Larson</td>\n",
       "      <td>1666373448613</td>\n",
       "      <td>To be fair to Hans....no one wants to be assoc...</td>\n",
       "      <td>Scott Pence,Scott Pence</td>\n",
       "      <td>Generic</td>\n",
       "      <td>False</td>\n",
       "      <td>False</td>\n",
       "      <td>False</td>\n",
       "      <td>NaN</td>\n",
       "      <td>NaN</td>\n",
       "      <td>NaN</td>\n",
       "      <td>NaN</td>\n",
       "      <td>2</td>\n",
       "    </tr>\n",
       "    <tr>\n",
       "      <th>2</th>\n",
       "      <td>Chad Larson</td>\n",
       "      <td>1666373216381</td>\n",
       "      <td>He would have to prove he didn't cheat and tha...</td>\n",
       "      <td>Scott Pence,Scott Pence</td>\n",
       "      <td>Generic</td>\n",
       "      <td>False</td>\n",
       "      <td>False</td>\n",
       "      <td>False</td>\n",
       "      <td>NaN</td>\n",
       "      <td>NaN</td>\n",
       "      <td>NaN</td>\n",
       "      <td>NaN</td>\n",
       "      <td>2</td>\n",
       "    </tr>\n",
       "    <tr>\n",
       "      <th>3</th>\n",
       "      <td>Scott Pence</td>\n",
       "      <td>1666373164883</td>\n",
       "      <td>Yeah, no way. You over shoot and hope to get a...</td>\n",
       "      <td>Chad Larson,Chad Larson</td>\n",
       "      <td>Generic</td>\n",
       "      <td>False</td>\n",
       "      <td>False</td>\n",
       "      <td>False</td>\n",
       "      <td>NaN</td>\n",
       "      <td>NaN</td>\n",
       "      <td>NaN</td>\n",
       "      <td>NaN</td>\n",
       "      <td>2</td>\n",
       "    </tr>\n",
       "    <tr>\n",
       "      <th>4</th>\n",
       "      <td>Chad Larson</td>\n",
       "      <td>1666373111157</td>\n",
       "      <td>From what I see, I don't think he could win.  ...</td>\n",
       "      <td>NaN</td>\n",
       "      <td>Generic</td>\n",
       "      <td>False</td>\n",
       "      <td>False</td>\n",
       "      <td>False</td>\n",
       "      <td>NaN</td>\n",
       "      <td>NaN</td>\n",
       "      <td>NaN</td>\n",
       "      <td>NaN</td>\n",
       "      <td>0</td>\n",
       "    </tr>\n",
       "  </tbody>\n",
       "</table>\n",
       "</div>"
      ],
      "text/plain": [
       "    sender_name   timestamp_ms  \\\n",
       "0  Joanna Rusch  1666374933946   \n",
       "1   Chad Larson  1666373448613   \n",
       "2   Chad Larson  1666373216381   \n",
       "3   Scott Pence  1666373164883   \n",
       "4   Chad Larson  1666373111157   \n",
       "\n",
       "                                             content                reactions  \\\n",
       "0  Maybe he just wants to ride the publicity for ...  Chad Larson,Chad Larson   \n",
       "1  To be fair to Hans....no one wants to be assoc...  Scott Pence,Scott Pence   \n",
       "2  He would have to prove he didn't cheat and tha...  Scott Pence,Scott Pence   \n",
       "3  Yeah, no way. You over shoot and hope to get a...  Chad Larson,Chad Larson   \n",
       "4  From what I see, I don't think he could win.  ...                      NaN   \n",
       "\n",
       "      type  is_unsent  is_taken_down  bumped_message_metadata share photos  \\\n",
       "0  Generic      False          False                    False   NaN    NaN   \n",
       "1  Generic      False          False                    False   NaN    NaN   \n",
       "2  Generic      False          False                    False   NaN    NaN   \n",
       "3  Generic      False          False                    False   NaN    NaN   \n",
       "4  Generic      False          False                    False   NaN    NaN   \n",
       "\n",
       "  gifs users  number_of_reactions  \n",
       "0  NaN   NaN                    2  \n",
       "1  NaN   NaN                    2  \n",
       "2  NaN   NaN                    2  \n",
       "3  NaN   NaN                    2  \n",
       "4  NaN   NaN                    0  "
      ]
     },
     "execution_count": 940,
     "metadata": {},
     "output_type": "execute_result"
    }
   ],
   "source": [
    "#    if isinstance(x, collections.abc.Iterable): This checks if x is an instance of an iterable (e.g., list, tuple, etc.).,\n",
    "#        The collections.abc.Iterable class is part of Python's collections.abc module, which defines abstract base classes for Python containers.,\n",
    "#        If x is an iterable, it processes the reactions to extract the actors. If x is not iterable (like None or a float), \n",
    "#        it handles this case by using an empty string (else '').,\n",
    "#    else '':,\n",
    "#        If x is not an iterable, this part sets the value to an empty string ''., \n",
    "#        This is the fallback for cases where the reactions column may contain non-iterable values like None or float.\n",
    "\n",
    "\n",
    "name_of_reactor = [','.join([y['actor'] for y in x]) if isinstance(x, collections.abc.Iterable) else 'NaN' for x in chess_df['reactions']]\n",
    "\n",
    "chess_df['reactions'] = name_of_reactor\n",
    "chess_df.head()"
   ]
  },
  {
   "cell_type": "code",
   "execution_count": 941,
   "id": "50adebe0-08c8-4ce6-a8fa-bc2659dfb537",
   "metadata": {},
   "outputs": [
    {
     "data": {
      "text/html": [
       "<div>\n",
       "<style scoped>\n",
       "    .dataframe tbody tr th:only-of-type {\n",
       "        vertical-align: middle;\n",
       "    }\n",
       "\n",
       "    .dataframe tbody tr th {\n",
       "        vertical-align: top;\n",
       "    }\n",
       "\n",
       "    .dataframe thead th {\n",
       "        text-align: right;\n",
       "    }\n",
       "</style>\n",
       "<table border=\"1\" class=\"dataframe\">\n",
       "  <thead>\n",
       "    <tr style=\"text-align: right;\">\n",
       "      <th></th>\n",
       "      <th>sender_name</th>\n",
       "      <th>timestamp_ms</th>\n",
       "      <th>content</th>\n",
       "      <th>reactions_by</th>\n",
       "      <th>type</th>\n",
       "      <th>is_unsent</th>\n",
       "      <th>is_taken_down</th>\n",
       "      <th>bumped_message</th>\n",
       "      <th>share</th>\n",
       "      <th>photos</th>\n",
       "      <th>gifs</th>\n",
       "      <th>users</th>\n",
       "      <th>number_of_reactions</th>\n",
       "    </tr>\n",
       "  </thead>\n",
       "  <tbody>\n",
       "    <tr>\n",
       "      <th>0</th>\n",
       "      <td>Joanna Rusch</td>\n",
       "      <td>1666374933946</td>\n",
       "      <td>Maybe he just wants to ride the publicity for ...</td>\n",
       "      <td>Chad Larson,Chad Larson</td>\n",
       "      <td>Generic</td>\n",
       "      <td>False</td>\n",
       "      <td>False</td>\n",
       "      <td>False</td>\n",
       "      <td>NaN</td>\n",
       "      <td>NaN</td>\n",
       "      <td>NaN</td>\n",
       "      <td>NaN</td>\n",
       "      <td>2</td>\n",
       "    </tr>\n",
       "  </tbody>\n",
       "</table>\n",
       "</div>"
      ],
      "text/plain": [
       "    sender_name   timestamp_ms  \\\n",
       "0  Joanna Rusch  1666374933946   \n",
       "\n",
       "                                             content             reactions_by  \\\n",
       "0  Maybe he just wants to ride the publicity for ...  Chad Larson,Chad Larson   \n",
       "\n",
       "      type  is_unsent  is_taken_down  bumped_message share photos gifs users  \\\n",
       "0  Generic      False          False           False   NaN    NaN  NaN   NaN   \n",
       "\n",
       "   number_of_reactions  \n",
       "0                    2  "
      ]
     },
     "execution_count": 941,
     "metadata": {},
     "output_type": "execute_result"
    }
   ],
   "source": [
    "#renaming the columns\n",
    "\n",
    "#inplace=True will change the original dataframe\n",
    "#refrence  https://www.geeksforgeeks.org/what-does-inplace-mean-in-pandas/\n",
    "\n",
    "chess_df.rename(columns={'bumped_message_metadata': 'bumped_message'}, inplace=True)   #for column bumped_message_metadata\n",
    "chess_df.rename(columns={'reactions': 'reactions_by'}, inplace=True)   #for column reactions\n",
    "\n",
    "chess_df.head(1)"
   ]
  },
  {
   "cell_type": "code",
   "execution_count": 942,
   "id": "74344a43-96f4-44b6-8224-e9c9f62e61ad",
   "metadata": {},
   "outputs": [
    {
     "data": {
      "text/html": [
       "<div>\n",
       "<style scoped>\n",
       "    .dataframe tbody tr th:only-of-type {\n",
       "        vertical-align: middle;\n",
       "    }\n",
       "\n",
       "    .dataframe tbody tr th {\n",
       "        vertical-align: top;\n",
       "    }\n",
       "\n",
       "    .dataframe thead th {\n",
       "        text-align: right;\n",
       "    }\n",
       "</style>\n",
       "<table border=\"1\" class=\"dataframe\">\n",
       "  <thead>\n",
       "    <tr style=\"text-align: right;\">\n",
       "      <th></th>\n",
       "      <th>sender_name</th>\n",
       "      <th>timestamp_ms</th>\n",
       "      <th>content</th>\n",
       "      <th>reactions_by</th>\n",
       "      <th>type</th>\n",
       "      <th>is_unsent</th>\n",
       "      <th>is_taken_down</th>\n",
       "      <th>bumped_message</th>\n",
       "      <th>number_of_reactions</th>\n",
       "    </tr>\n",
       "  </thead>\n",
       "  <tbody>\n",
       "    <tr>\n",
       "      <th>0</th>\n",
       "      <td>Joanna Rusch</td>\n",
       "      <td>1666374933946</td>\n",
       "      <td>Maybe he just wants to ride the publicity for ...</td>\n",
       "      <td>Chad Larson,Chad Larson</td>\n",
       "      <td>Generic</td>\n",
       "      <td>False</td>\n",
       "      <td>False</td>\n",
       "      <td>False</td>\n",
       "      <td>2</td>\n",
       "    </tr>\n",
       "  </tbody>\n",
       "</table>\n",
       "</div>"
      ],
      "text/plain": [
       "    sender_name   timestamp_ms  \\\n",
       "0  Joanna Rusch  1666374933946   \n",
       "\n",
       "                                             content             reactions_by  \\\n",
       "0  Maybe he just wants to ride the publicity for ...  Chad Larson,Chad Larson   \n",
       "\n",
       "      type  is_unsent  is_taken_down  bumped_message  number_of_reactions  \n",
       "0  Generic      False          False           False                    2  "
      ]
     },
     "execution_count": 942,
     "metadata": {},
     "output_type": "execute_result"
    }
   ],
   "source": [
    "#dropping a few columns\n",
    "\n",
    "chess_df = chess_df.drop(columns = ['share','photos','gifs','users'])   \n",
    "chess_df.head(1)"
   ]
  },
  {
   "cell_type": "code",
   "execution_count": 943,
   "id": "bc61b2b5-6cfc-44b6-b0e3-9ee3fb51319a",
   "metadata": {},
   "outputs": [],
   "source": [
    "#rearranging the columns\n",
    "\n",
    "chess_df=chess_df.iloc[:,[0,1,2,3,8,4,5,6,7]]"
   ]
  },
  {
   "cell_type": "code",
   "execution_count": 944,
   "id": "2c83df10-f5fb-479e-81bc-523b80d9f761",
   "metadata": {},
   "outputs": [
    {
     "data": {
      "text/html": [
       "<div>\n",
       "<style scoped>\n",
       "    .dataframe tbody tr th:only-of-type {\n",
       "        vertical-align: middle;\n",
       "    }\n",
       "\n",
       "    .dataframe tbody tr th {\n",
       "        vertical-align: top;\n",
       "    }\n",
       "\n",
       "    .dataframe thead th {\n",
       "        text-align: right;\n",
       "    }\n",
       "</style>\n",
       "<table border=\"1\" class=\"dataframe\">\n",
       "  <thead>\n",
       "    <tr style=\"text-align: right;\">\n",
       "      <th></th>\n",
       "      <th>sender_name</th>\n",
       "      <th>timestamp_ms</th>\n",
       "      <th>content</th>\n",
       "      <th>reactions_by</th>\n",
       "      <th>number_of_reactions</th>\n",
       "      <th>type</th>\n",
       "      <th>is_unsent</th>\n",
       "      <th>is_taken_down</th>\n",
       "      <th>bumped_message</th>\n",
       "    </tr>\n",
       "  </thead>\n",
       "  <tbody>\n",
       "    <tr>\n",
       "      <th>222</th>\n",
       "      <td>Chad Larson</td>\n",
       "      <td>1615854650355</td>\n",
       "      <td>Chad named the group Chess Buds.</td>\n",
       "      <td>NaN</td>\n",
       "      <td>0</td>\n",
       "      <td>Generic</td>\n",
       "      <td>False</td>\n",
       "      <td>False</td>\n",
       "      <td>False</td>\n",
       "    </tr>\n",
       "    <tr>\n",
       "      <th>221</th>\n",
       "      <td>Chad Larson</td>\n",
       "      <td>1615854680797</td>\n",
       "      <td>Scott studied my games, did a specific opening...</td>\n",
       "      <td>NaN</td>\n",
       "      <td>0</td>\n",
       "      <td>Generic</td>\n",
       "      <td>False</td>\n",
       "      <td>False</td>\n",
       "      <td>False</td>\n",
       "    </tr>\n",
       "    <tr>\n",
       "      <th>220</th>\n",
       "      <td>Chad Larson</td>\n",
       "      <td>1615854725212</td>\n",
       "      <td>Chad Larson added Angela Babbitt Pence to the ...</td>\n",
       "      <td>NaN</td>\n",
       "      <td>0</td>\n",
       "      <td>Subscribe</td>\n",
       "      <td>False</td>\n",
       "      <td>False</td>\n",
       "      <td>False</td>\n",
       "    </tr>\n",
       "    <tr>\n",
       "      <th>219</th>\n",
       "      <td>Scott Pence</td>\n",
       "      <td>1615855620614</td>\n",
       "      <td>NaN</td>\n",
       "      <td>Chad Larson</td>\n",
       "      <td>1</td>\n",
       "      <td>Generic</td>\n",
       "      <td>False</td>\n",
       "      <td>False</td>\n",
       "      <td>False</td>\n",
       "    </tr>\n",
       "    <tr>\n",
       "      <th>218</th>\n",
       "      <td>Scott Pence</td>\n",
       "      <td>1615855643693</td>\n",
       "      <td>Thank you, thank you.</td>\n",
       "      <td>NaN</td>\n",
       "      <td>0</td>\n",
       "      <td>Generic</td>\n",
       "      <td>False</td>\n",
       "      <td>False</td>\n",
       "      <td>False</td>\n",
       "    </tr>\n",
       "  </tbody>\n",
       "</table>\n",
       "</div>"
      ],
      "text/plain": [
       "     sender_name   timestamp_ms  \\\n",
       "222  Chad Larson  1615854650355   \n",
       "221  Chad Larson  1615854680797   \n",
       "220  Chad Larson  1615854725212   \n",
       "219  Scott Pence  1615855620614   \n",
       "218  Scott Pence  1615855643693   \n",
       "\n",
       "                                               content reactions_by  \\\n",
       "222                   Chad named the group Chess Buds.          NaN   \n",
       "221  Scott studied my games, did a specific opening...          NaN   \n",
       "220  Chad Larson added Angela Babbitt Pence to the ...          NaN   \n",
       "219                                                NaN  Chad Larson   \n",
       "218                              Thank you, thank you.          NaN   \n",
       "\n",
       "     number_of_reactions       type  is_unsent  is_taken_down  bumped_message  \n",
       "222                    0    Generic      False          False           False  \n",
       "221                    0    Generic      False          False           False  \n",
       "220                    0  Subscribe      False          False           False  \n",
       "219                    1    Generic      False          False           False  \n",
       "218                    0    Generic      False          False           False  "
      ]
     },
     "execution_count": 944,
     "metadata": {},
     "output_type": "execute_result"
    }
   ],
   "source": [
    "#sorting dataframe by timestamp_ms column\n",
    "\n",
    "chess_df = chess_df.sort_values(by = 'timestamp_ms') \n",
    "chess_df.head()"
   ]
  },
  {
   "cell_type": "code",
   "execution_count": 945,
   "id": "dbe72905-c2f6-4249-9e66-6f03ab25ef21",
   "metadata": {},
   "outputs": [
    {
     "data": {
      "text/html": [
       "<div>\n",
       "<style scoped>\n",
       "    .dataframe tbody tr th:only-of-type {\n",
       "        vertical-align: middle;\n",
       "    }\n",
       "\n",
       "    .dataframe tbody tr th {\n",
       "        vertical-align: top;\n",
       "    }\n",
       "\n",
       "    .dataframe thead th {\n",
       "        text-align: right;\n",
       "    }\n",
       "</style>\n",
       "<table border=\"1\" class=\"dataframe\">\n",
       "  <thead>\n",
       "    <tr style=\"text-align: right;\">\n",
       "      <th></th>\n",
       "      <th>sender_name</th>\n",
       "      <th>timestamp_ms</th>\n",
       "      <th>content</th>\n",
       "      <th>reactions_by</th>\n",
       "      <th>number_of_reactions</th>\n",
       "      <th>type</th>\n",
       "      <th>is_unsent</th>\n",
       "      <th>is_taken_down</th>\n",
       "      <th>bumped_message</th>\n",
       "    </tr>\n",
       "  </thead>\n",
       "  <tbody>\n",
       "    <tr>\n",
       "      <th>0</th>\n",
       "      <td>Chad Larson</td>\n",
       "      <td>1615854650355</td>\n",
       "      <td>Chad named the group Chess Buds.</td>\n",
       "      <td>NaN</td>\n",
       "      <td>0</td>\n",
       "      <td>Generic</td>\n",
       "      <td>False</td>\n",
       "      <td>False</td>\n",
       "      <td>False</td>\n",
       "    </tr>\n",
       "    <tr>\n",
       "      <th>1</th>\n",
       "      <td>Chad Larson</td>\n",
       "      <td>1615854680797</td>\n",
       "      <td>Scott studied my games, did a specific opening...</td>\n",
       "      <td>NaN</td>\n",
       "      <td>0</td>\n",
       "      <td>Generic</td>\n",
       "      <td>False</td>\n",
       "      <td>False</td>\n",
       "      <td>False</td>\n",
       "    </tr>\n",
       "    <tr>\n",
       "      <th>2</th>\n",
       "      <td>Chad Larson</td>\n",
       "      <td>1615854725212</td>\n",
       "      <td>Chad Larson added Angela Babbitt Pence to the ...</td>\n",
       "      <td>NaN</td>\n",
       "      <td>0</td>\n",
       "      <td>Subscribe</td>\n",
       "      <td>False</td>\n",
       "      <td>False</td>\n",
       "      <td>False</td>\n",
       "    </tr>\n",
       "    <tr>\n",
       "      <th>3</th>\n",
       "      <td>Scott Pence</td>\n",
       "      <td>1615855620614</td>\n",
       "      <td>NaN</td>\n",
       "      <td>Chad Larson</td>\n",
       "      <td>1</td>\n",
       "      <td>Generic</td>\n",
       "      <td>False</td>\n",
       "      <td>False</td>\n",
       "      <td>False</td>\n",
       "    </tr>\n",
       "    <tr>\n",
       "      <th>4</th>\n",
       "      <td>Scott Pence</td>\n",
       "      <td>1615855643693</td>\n",
       "      <td>Thank you, thank you.</td>\n",
       "      <td>NaN</td>\n",
       "      <td>0</td>\n",
       "      <td>Generic</td>\n",
       "      <td>False</td>\n",
       "      <td>False</td>\n",
       "      <td>False</td>\n",
       "    </tr>\n",
       "  </tbody>\n",
       "</table>\n",
       "</div>"
      ],
      "text/plain": [
       "   sender_name   timestamp_ms  \\\n",
       "0  Chad Larson  1615854650355   \n",
       "1  Chad Larson  1615854680797   \n",
       "2  Chad Larson  1615854725212   \n",
       "3  Scott Pence  1615855620614   \n",
       "4  Scott Pence  1615855643693   \n",
       "\n",
       "                                             content reactions_by  \\\n",
       "0                   Chad named the group Chess Buds.          NaN   \n",
       "1  Scott studied my games, did a specific opening...          NaN   \n",
       "2  Chad Larson added Angela Babbitt Pence to the ...          NaN   \n",
       "3                                                NaN  Chad Larson   \n",
       "4                              Thank you, thank you.          NaN   \n",
       "\n",
       "   number_of_reactions       type  is_unsent  is_taken_down  bumped_message  \n",
       "0                    0    Generic      False          False           False  \n",
       "1                    0    Generic      False          False           False  \n",
       "2                    0  Subscribe      False          False           False  \n",
       "3                    1    Generic      False          False           False  \n",
       "4                    0    Generic      False          False           False  "
      ]
     },
     "execution_count": 945,
     "metadata": {},
     "output_type": "execute_result"
    }
   ],
   "source": [
    "#resetting index\n",
    "\n",
    "chess_df.reset_index(drop=True, inplace=True)\n",
    "chess_df.head()"
   ]
  },
  {
   "cell_type": "markdown",
   "id": "7701fbad-7ddb-4e0d-8720-36efa7750d92",
   "metadata": {},
   "source": [
    "**what you have set the row-level (observation) to represent and what you have set each column to represent?**\r\n",
    "\r\n",
    "    The observations in the dataframe represent the details about the messages in the groupchat. For example, each columrepresentsme details about the sent message, such as: sender name, the timestamp, the content of the message and reactions (bumped messages, gifs, pictures, etc)\r\n",
    "\r\n",
    "    Sender_name: The name of the person who sent the message;\r\n",
    "    Timestamp: When was the message sent;\r\n",
    "    Content: The content or text of the messageReactions_by: Name of the person who reacted on the message;\n",
    "    Number_of_reactionsactions: The number of reactions received by the message;\r\n",
    "    Type: The type of message, such as 'Generic';\r\n",
    "    Is_unsent: whether the message was unsent or not;\r\n",
    "    Is_taken_down: whether the message was taken down;\r\n",
    "    Bumped_message: whether the message was bumped;\r\n",
    "    Share, Photos, GIFs, Users: Additional details about the message content and i which have been dropped as their value is NaN in most casests reactions.\r\n"
   ]
  },
  {
   "cell_type": "markdown",
   "id": "94db57ae-9e26-4773-baa0-fdcf2315c46e",
   "metadata": {},
   "source": [
    "**Describe how the final DataFrame meets tidy data principles?**\n",
    "\n",
    "    In the process of tidying dataframe I did the following commands:\n",
    "        Modified the bumped_messages_metadata column to show whether it was bumped or not. Changed the name to bumped_messages;\n",
    "        Modified reactions column by removing the content and only leaving the name of the person/s reacting.\n",
    "        I renamaed the timestamped and bumped message columns;\n",
    "        Added a new column 'number_of_reactions' to show number of reactions received by a content;\n",
    "        Dropped the following columns: share, photos, gifs, users;\n",
    "        Rearranged the columns;\n",
    "        Sorted the dataframe by timestamp in increasing order;\n",
    "        Reset index so that it stays in order;\n",
    "    I think this dataframe satisfies the tidy data principles for several reasons by combining all of the previously stated commands. Every variable (sender_name, timestamp, content, reactions, type, etc.) in this dataframe is represented by a different column. As per the principle of having values in cells and not variable names across columns, column headers contain values representing the variables related to observed events. NaN values are used to indicate missing data in columns where there is a lack of information.\n"
   ]
  },
  {
   "cell_type": "markdown",
   "id": "b1252ea4-c387-4019-925d-aac1d32af6aa",
   "metadata": {},
   "source": [
    "**What are (if any) alternative, tidy formats that would also be acceptable for this data?**\n",
    "\n",
    "    I think formatting the 'timestamp' column as a datetime object would be extremely helpful. This would greatly facilitate the manipulation and analysis of the data and information. In addition, I would make a distinct Dataframe with columns for reactions that included sender, message_id, and reaction_type.\n"
   ]
  },
  {
   "cell_type": "markdown",
   "id": "22ea4fa5-9fba-4799-8666-a572aa2a2cd1",
   "metadata": {},
   "source": [
    "**Describe a potential visualization that would let someone explore and, ultimately, better understand this data**\n",
    "\n",
    "    Given that the focus of this dataframe is group interactions, my recommendation would be to utilize a line chart to examine and comprehend the patterns present in the dataset. We can create the follwoing mappings:\n",
    "    \n",
    "    Variables:\n",
    "    X-Axis           Y-Axis\n",
    "    Time             Content(Number of messages)\n",
    "    Time             Content(Quality of messages(whether it's positive or not))\n",
    "    Message          Number_of_reactions(to see what type of message is most popular)\n",
    "    Reactions_by     Number_of_reactions and Content(To associate behavioral patterns of participants)\n",
    "\n",
    "The time would be on the X-axis, and the number of messages would be on the Y-axis. We are able to monitor the messaging activity over time in this manner. Additionally, I would add some color to the chart to indicate the sender or the quantity of responses. This graphic could reveal patterns and offer insights into the overall message activity over time.\n"
   ]
  }
 ],
 "metadata": {
  "kernelspec": {
   "display_name": "Python 3 (ipykernel)",
   "language": "python",
   "name": "python3"
  },
  "language_info": {
   "codemirror_mode": {
    "name": "ipython",
    "version": 3
   },
   "file_extension": ".py",
   "mimetype": "text/x-python",
   "name": "python",
   "nbconvert_exporter": "python",
   "pygments_lexer": "ipython3",
   "version": "3.12.4"
  }
 },
 "nbformat": 4,
 "nbformat_minor": 5
}
