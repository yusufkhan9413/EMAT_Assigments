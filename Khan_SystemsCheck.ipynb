{
 "cells": [
  {
   "cell_type": "markdown",
   "id": "d1e73d52-ace8-4ca9-be9e-dfcc8124f39d",
   "metadata": {},
   "source": [
    "Systems Check\n",
    "\n",
    "Yusuf Khan 811286910\n",
    "\n",
    "20th August"
   ]
  },
  {
   "cell_type": "markdown",
   "id": "ae99a6cf-e937-45ec-8ff2-8e391a35564d",
   "metadata": {},
   "source": [
    "# This is the First lecture for EMAT with heading 1"
   ]
  },
  {
   "cell_type": "markdown",
   "id": "742ad5a5-258d-4357-9ac1-f6a810e05893",
   "metadata": {},
   "source": [
    "## This is the First lecture for EMAT with headng 2"
   ]
  },
  {
   "cell_type": "markdown",
   "id": "765c5f69-4f3e-4864-97a8-e0d3bce91008",
   "metadata": {},
   "source": [
    "Ordered List\n",
    "- This is the First lecture for EMAT\n",
    "- This is the First lecture for EMAT"
   ]
  },
  {
   "cell_type": "markdown",
   "id": "a89fca11-2484-4e51-9108-e2f40cd18eb7",
   "metadata": {},
   "source": [
    "*This is the First lecture for EMAT*"
   ]
  },
  {
   "cell_type": "markdown",
   "id": "65f77bab-0e96-4665-96ce-8613c525b0f3",
   "metadata": {},
   "source": [
    "**This is the First lecture for EMAT**"
   ]
  },
  {
   "cell_type": "markdown",
   "id": "31861281-9c72-4ded-9d8e-3abfa1252734",
   "metadata": {},
   "source": [
    "![Image](data:image/jpeg;base64,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)"
   ]
  },
  {
   "cell_type": "code",
   "execution_count": 31,
   "id": "c47a6f5a-dbaa-4014-a141-00536e03c6f0",
   "metadata": {},
   "outputs": [],
   "source": [
    "x = 3"
   ]
  },
  {
   "cell_type": "code",
   "execution_count": 32,
   "id": "b2b3cbb8-4ee9-45e5-8db9-3c010f1dac49",
   "metadata": {},
   "outputs": [
    {
     "data": {
      "text/plain": [
       "3"
      ]
     },
     "execution_count": 32,
     "metadata": {},
     "output_type": "execute_result"
    }
   ],
   "source": [
    "x"
   ]
  },
  {
   "cell_type": "code",
   "execution_count": 33,
   "id": "b1684f34-f2e9-407a-bd0f-f929c34bac2e",
   "metadata": {},
   "outputs": [],
   "source": [
    "my_list = [2,3,4,5]"
   ]
  },
  {
   "cell_type": "code",
   "execution_count": 34,
   "id": "0eace661-78a6-40b3-ad02-55b3c6d2d72b",
   "metadata": {},
   "outputs": [
    {
     "data": {
      "text/plain": [
       "2"
      ]
     },
     "execution_count": 34,
     "metadata": {},
     "output_type": "execute_result"
    }
   ],
   "source": [
    "my_list[0]"
   ]
  },
  {
   "cell_type": "code",
   "execution_count": 35,
   "id": "1ab94ccc-e556-4079-b542-29447c4d390a",
   "metadata": {},
   "outputs": [],
   "source": [
    "my_name = \"Yusuf\""
   ]
  },
  {
   "cell_type": "code",
   "execution_count": 36,
   "id": "c7903111-5b47-4fc8-aa8e-674f76fec12f",
   "metadata": {},
   "outputs": [],
   "source": [
    "def display_name(x):\n",
    "    print(x)"
   ]
  },
  {
   "cell_type": "code",
   "execution_count": 37,
   "id": "6eb5500c-9db0-46d6-95ef-4bdc98fbc648",
   "metadata": {},
   "outputs": [
    {
     "name": "stdout",
     "output_type": "stream",
     "text": [
      "Yusuf\n"
     ]
    }
   ],
   "source": [
    "display_name(my_name)"
   ]
  },
  {
   "cell_type": "code",
   "execution_count": 38,
   "id": "c4c221bd-cf9f-49fb-83f6-e593d28daded",
   "metadata": {},
   "outputs": [],
   "source": [
    "def change_name(x):\n",
    "    new_name= x + 'new'\n",
    "    return new_name"
   ]
  },
  {
   "cell_type": "code",
   "execution_count": 39,
   "id": "425a5f37-df8c-4915-ad57-3c0a0438fcb6",
   "metadata": {},
   "outputs": [
    {
     "data": {
      "text/plain": [
       "'Yusuf_new'"
      ]
     },
     "execution_count": 39,
     "metadata": {},
     "output_type": "execute_result"
    }
   ],
   "source": [
    "changed_name = change_name('Yusuf_')\n",
    "changed_name"
   ]
  },
  {
   "cell_type": "code",
   "execution_count": 40,
   "id": "cd41b0c3-ba39-480d-bf5c-f6277ee01356",
   "metadata": {},
   "outputs": [
    {
     "name": "stdout",
     "output_type": "stream",
     "text": [
      "0\n",
      "1\n",
      "2\n"
     ]
    }
   ],
   "source": [
    "for x in range(3):\n",
    "    print(x)"
   ]
  },
  {
   "cell_type": "code",
   "execution_count": 43,
   "id": "3884c858-817b-4b12-96c2-becdc78a34ac",
   "metadata": {},
   "outputs": [
    {
     "name": "stdout",
     "output_type": "stream",
     "text": [
      "Yusuf\n",
      "Yusuf_new\n"
     ]
    }
   ],
   "source": [
    "names = [my_name, changed_name]\n",
    "for x in names:\n",
    "    print(x)"
   ]
  },
  {
   "cell_type": "code",
   "execution_count": null,
   "id": "8211aea0-137a-411c-abd8-d155ae4ad1d3",
   "metadata": {},
   "outputs": [],
   "source": []
  }
 ],
 "metadata": {
  "kernelspec": {
   "display_name": "Python 3 (ipykernel)",
   "language": "python",
   "name": "python3"
  },
  "language_info": {
   "codemirror_mode": {
    "name": "ipython",
    "version": 3
   },
   "file_extension": ".py",
   "mimetype": "text/x-python",
   "name": "python",
   "nbconvert_exporter": "python",
   "pygments_lexer": "ipython3",
   "version": "3.12.4"
  }
 },
 "nbformat": 4,
 "nbformat_minor": 5
}
