{
 "cells": [
  {
   "cell_type": "markdown",
   "id": "f196b5e1-d793-4075-a8ea-84f1f0014a36",
   "metadata": {},
   "source": [
    "Mohammad Yusuf Khan\n",
    "\n",
    "811286910"
   ]
  },
  {
   "cell_type": "markdown",
   "id": "9c8e9a5d-201f-43b8-9556-c8b616ddcc9e",
   "metadata": {},
   "source": [
    "# Milestone 1 - Data cleaning\n",
    "\n",
    "Datasets is from from iflix datathon 2019.\n",
    "\n",
    "I found this dataset at kaggle and it is was used for the datathon 2019. I couldn't find the original source to the dataset. This dataset was provided for this competition and I found it on kaggle.\n",
    "\n",
    "Link to the dataset: \n",
    "\n",
    "https://www.kaggle.com/datasets/aungpyaeap/movie-streaming-datasets-iflix"
   ]
  },
  {
   "cell_type": "markdown",
   "id": "a77604f0-08a9-422d-b45f-97ac61040517",
   "metadata": {},
   "source": [
    "# Description of the datasets\n",
    "\n",
    "# users.csv\n",
    "\n",
    "User_id: Unique identifier of user\n",
    "\n",
    "Country_code: Country code where the user registered.\n",
    "\n",
    "# assets.csv\n",
    "\n",
    "Show_type: Type of content, whether the asset is a movie or an episode of a TV series\n",
    "\n",
    "Genre: Genre of content\n",
    "\n",
    "Running_miutes: Runtime of content (Playable number of minutes)\n",
    "\n",
    "Source_language: Production language of content\n",
    "\n",
    "Asset_id: Unique identifier of video content at the most granular level (a movie or an episode of a TV series)\n",
    "\n",
    "Season_id: Unique identifier of content at season level. This is only applicable to TV series\n",
    "\n",
    "Series_id: Unique identifier of content at series level. This is only applicable to TV series\n",
    "\n",
    "Studio_id: Unique identifier of production studio for the content\n",
    "\n",
    "# plays.csv\n",
    "\n",
    "Platform: Platform of consumption\n",
    "\n",
    "Minutes_viewed : Total number of minutes viewed, rounded to the nearest integer (0 means less than 30 seconds)\n",
    "\n",
    "# Demographics.csv Psychographics.csv\n",
    "\n",
    "The dataset identifies psychographic and demographic tags about some iflix users. Each user-tag pair has an associated confidence score (1 is the highest, and 0 is the lowest confidence). Each trait can have up to 3 levels, depending on its granularity. Some traits can be identified by only considering the first two levels. At the same time, there are others that make more sense when all the three levels are considered, e.g., ‘iflix Viewing Behaviour’ is a level 2 psychographic trait that only makes sense when it is looked at in combination with the level 3 traits corresponding to it (‘casual,’ ‘player’ and ‘addict’). These traits represent different levels of viewing behavior of iflix users. Casual users have less than five viewing days in a month, player users have 5 to 12 viewing days in a month, and people with an addiction have more than 12 viewing days in a month. Traits are available corresponding to a user_id in the dataset only if we have certain confidence that the user belongs to the trait.\n",
    "\n",
    "Column and Description\n",
    "\n",
    "Level_1: Identifies the first level of the trait (psychologic or demographic)\n",
    "\n",
    "Level_2: Identifies the second level of the trait (e.g., Music Lovers, Movies Lovers)\n",
    "\n",
    "Level_3 : Identifies the third level of the trait, if available/relevant (e.g. Malay Movies Lovers, Indonesian TV Fans)\n",
    "\n",
    "Confidence_score: Confidence in associating the said trait (level_1, level_2, level_3) with the uservel_2, level_3) with the userel_2, level_3) with the userevel_3) with the user"
   ]
  },
  {
   "cell_type": "code",
   "execution_count": 1,
   "id": "0b23d7a2-0419-4127-b05d-c68d5fb4ba15",
   "metadata": {},
   "outputs": [],
   "source": [
    "import pandas as pd"
   ]
  },
  {
   "cell_type": "code",
   "execution_count": 2,
   "id": "4ec61b7b-4440-444c-8396-3cb4f7ffb22a",
   "metadata": {},
   "outputs": [
    {
     "data": {
      "text/html": [
       "<div>\n",
       "<style scoped>\n",
       "    .dataframe tbody tr th:only-of-type {\n",
       "        vertical-align: middle;\n",
       "    }\n",
       "\n",
       "    .dataframe tbody tr th {\n",
       "        vertical-align: top;\n",
       "    }\n",
       "\n",
       "    .dataframe thead th {\n",
       "        text-align: right;\n",
       "    }\n",
       "</style>\n",
       "<table border=\"1\" class=\"dataframe\">\n",
       "  <thead>\n",
       "    <tr style=\"text-align: right;\">\n",
       "      <th></th>\n",
       "      <th>show_type</th>\n",
       "      <th>genre</th>\n",
       "      <th>running_minutes</th>\n",
       "      <th>source_language</th>\n",
       "      <th>asset_id</th>\n",
       "      <th>season_id</th>\n",
       "      <th>series_id</th>\n",
       "      <th>studio_id</th>\n",
       "    </tr>\n",
       "  </thead>\n",
       "  <tbody>\n",
       "    <tr>\n",
       "      <th>0</th>\n",
       "      <td>Movies</td>\n",
       "      <td>Sci-Fi</td>\n",
       "      <td>146</td>\n",
       "      <td>English</td>\n",
       "      <td>1</td>\n",
       "      <td>NaN</td>\n",
       "      <td>NaN</td>\n",
       "      <td>325.0</td>\n",
       "    </tr>\n",
       "  </tbody>\n",
       "</table>\n",
       "</div>"
      ],
      "text/plain": [
       "  show_type   genre  running_minutes source_language  asset_id  season_id  \\\n",
       "0    Movies  Sci-Fi              146         English         1        NaN   \n",
       "\n",
       "   series_id  studio_id  \n",
       "0        NaN      325.0  "
      ]
     },
     "execution_count": 2,
     "metadata": {},
     "output_type": "execute_result"
    }
   ],
   "source": [
    "assets = pd.read_csv(\"assets.csv\")\n",
    "assets.head(1)"
   ]
  },
  {
   "cell_type": "code",
   "execution_count": 3,
   "id": "daa0ea24-8063-420f-a052-080b5039911d",
   "metadata": {},
   "outputs": [
    {
     "data": {
      "text/html": [
       "<div>\n",
       "<style scoped>\n",
       "    .dataframe tbody tr th:only-of-type {\n",
       "        vertical-align: middle;\n",
       "    }\n",
       "\n",
       "    .dataframe tbody tr th {\n",
       "        vertical-align: top;\n",
       "    }\n",
       "\n",
       "    .dataframe thead th {\n",
       "        text-align: right;\n",
       "    }\n",
       "</style>\n",
       "<table border=\"1\" class=\"dataframe\">\n",
       "  <thead>\n",
       "    <tr style=\"text-align: right;\">\n",
       "      <th></th>\n",
       "      <th>user_id</th>\n",
       "      <th>platform</th>\n",
       "      <th>level_1</th>\n",
       "      <th>level_2</th>\n",
       "      <th>level_3</th>\n",
       "      <th>confidence_score</th>\n",
       "    </tr>\n",
       "  </thead>\n",
       "  <tbody>\n",
       "    <tr>\n",
       "      <th>0</th>\n",
       "      <td>171798691973</td>\n",
       "      <td>android</td>\n",
       "      <td>Demographics</td>\n",
       "      <td>Income</td>\n",
       "      <td>Medium</td>\n",
       "      <td>1.0</td>\n",
       "    </tr>\n",
       "  </tbody>\n",
       "</table>\n",
       "</div>"
      ],
      "text/plain": [
       "        user_id platform       level_1 level_2 level_3  confidence_score\n",
       "0  171798691973  android  Demographics  Income  Medium               1.0"
      ]
     },
     "execution_count": 3,
     "metadata": {},
     "output_type": "execute_result"
    }
   ],
   "source": [
    "demographics = pd.read_csv(\"demographics.csv\")\n",
    "demographics.head(1)"
   ]
  },
  {
   "cell_type": "code",
   "execution_count": 4,
   "id": "ac1f2726-cc43-48d1-aa65-182af80a2259",
   "metadata": {},
   "outputs": [
    {
     "data": {
      "text/html": [
       "<div>\n",
       "<style scoped>\n",
       "    .dataframe tbody tr th:only-of-type {\n",
       "        vertical-align: middle;\n",
       "    }\n",
       "\n",
       "    .dataframe tbody tr th {\n",
       "        vertical-align: top;\n",
       "    }\n",
       "\n",
       "    .dataframe thead th {\n",
       "        text-align: right;\n",
       "    }\n",
       "</style>\n",
       "<table border=\"1\" class=\"dataframe\">\n",
       "  <thead>\n",
       "    <tr style=\"text-align: right;\">\n",
       "      <th></th>\n",
       "      <th>user_id</th>\n",
       "      <th>platform</th>\n",
       "      <th>level_1</th>\n",
       "      <th>level_2</th>\n",
       "      <th>level_3</th>\n",
       "      <th>confidence_score</th>\n",
       "    </tr>\n",
       "  </thead>\n",
       "  <tbody>\n",
       "    <tr>\n",
       "      <th>0</th>\n",
       "      <td>352187318551</td>\n",
       "      <td>android</td>\n",
       "      <td>Psychographics</td>\n",
       "      <td>Social Media Fans</td>\n",
       "      <td>\\\"\\\"</td>\n",
       "      <td>1.0</td>\n",
       "    </tr>\n",
       "  </tbody>\n",
       "</table>\n",
       "</div>"
      ],
      "text/plain": [
       "        user_id platform         level_1            level_2 level_3  \\\n",
       "0  352187318551  android  Psychographics  Social Media Fans    \\\"\\\"   \n",
       "\n",
       "   confidence_score  \n",
       "0               1.0  "
      ]
     },
     "execution_count": 4,
     "metadata": {},
     "output_type": "execute_result"
    }
   ],
   "source": [
    "psychographics = pd.read_csv(\"psychographics.csv\")\n",
    "psychographics.head(1)"
   ]
  },
  {
   "cell_type": "code",
   "execution_count": 5,
   "id": "db896002-95b9-4c29-a7c5-40be17714b06",
   "metadata": {},
   "outputs": [
    {
     "data": {
      "text/html": [
       "<div>\n",
       "<style scoped>\n",
       "    .dataframe tbody tr th:only-of-type {\n",
       "        vertical-align: middle;\n",
       "    }\n",
       "\n",
       "    .dataframe tbody tr th {\n",
       "        vertical-align: top;\n",
       "    }\n",
       "\n",
       "    .dataframe thead th {\n",
       "        text-align: right;\n",
       "    }\n",
       "</style>\n",
       "<table border=\"1\" class=\"dataframe\">\n",
       "  <thead>\n",
       "    <tr style=\"text-align: right;\">\n",
       "      <th></th>\n",
       "      <th>user_id</th>\n",
       "      <th>platform</th>\n",
       "      <th>asset_id</th>\n",
       "      <th>minutes_viewed</th>\n",
       "    </tr>\n",
       "  </thead>\n",
       "  <tbody>\n",
       "    <tr>\n",
       "      <th>0</th>\n",
       "      <td>764504178919</td>\n",
       "      <td>android</td>\n",
       "      <td>13758</td>\n",
       "      <td>28</td>\n",
       "    </tr>\n",
       "  </tbody>\n",
       "</table>\n",
       "</div>"
      ],
      "text/plain": [
       "        user_id platform  asset_id  minutes_viewed\n",
       "0  764504178919  android     13758              28"
      ]
     },
     "execution_count": 5,
     "metadata": {},
     "output_type": "execute_result"
    }
   ],
   "source": [
    "plays = pd.read_csv(\"plays.csv\")\n",
    "plays.head(1)"
   ]
  },
  {
   "cell_type": "code",
   "execution_count": 6,
   "id": "22df2aab-17ba-44ea-aea1-77df8cbe9e57",
   "metadata": {},
   "outputs": [
    {
     "data": {
      "text/html": [
       "<div>\n",
       "<style scoped>\n",
       "    .dataframe tbody tr th:only-of-type {\n",
       "        vertical-align: middle;\n",
       "    }\n",
       "\n",
       "    .dataframe tbody tr th {\n",
       "        vertical-align: top;\n",
       "    }\n",
       "\n",
       "    .dataframe thead th {\n",
       "        text-align: right;\n",
       "    }\n",
       "</style>\n",
       "<table border=\"1\" class=\"dataframe\">\n",
       "  <thead>\n",
       "    <tr style=\"text-align: right;\">\n",
       "      <th></th>\n",
       "      <th>user_id</th>\n",
       "      <th>country_code</th>\n",
       "    </tr>\n",
       "  </thead>\n",
       "  <tbody>\n",
       "    <tr>\n",
       "      <th>0</th>\n",
       "      <td>781684047872</td>\n",
       "      <td>ID</td>\n",
       "    </tr>\n",
       "  </tbody>\n",
       "</table>\n",
       "</div>"
      ],
      "text/plain": [
       "        user_id country_code\n",
       "0  781684047872           ID"
      ]
     },
     "execution_count": 6,
     "metadata": {},
     "output_type": "execute_result"
    }
   ],
   "source": [
    "user = pd.read_csv(\"users.csv\")\n",
    "user.head(1)"
   ]
  },
  {
   "cell_type": "markdown",
   "id": "731ca0da-69f2-4dd4-9194-3b7eaa1478f9",
   "metadata": {},
   "source": [
    "# assets.csv"
   ]
  },
  {
   "cell_type": "code",
   "execution_count": 7,
   "id": "52f29a39-123f-4181-910d-42feeb4ae9f9",
   "metadata": {},
   "outputs": [
    {
     "data": {
      "text/plain": [
       "(17271, 8)"
      ]
     },
     "execution_count": 7,
     "metadata": {},
     "output_type": "execute_result"
    }
   ],
   "source": [
    "assets.shape"
   ]
  },
  {
   "cell_type": "code",
   "execution_count": 8,
   "id": "01dade7a-7920-44df-8dfe-7770d8807e70",
   "metadata": {},
   "outputs": [
    {
     "data": {
      "text/plain": [
       "Index(['show_type', 'genre', 'running_minutes', 'source_language', 'asset_id',\n",
       "       'season_id', 'series_id', 'studio_id'],\n",
       "      dtype='object')"
      ]
     },
     "execution_count": 8,
     "metadata": {},
     "output_type": "execute_result"
    }
   ],
   "source": [
    "assets.columns"
   ]
  },
  {
   "cell_type": "code",
   "execution_count": 9,
   "id": "613057ca-a720-467f-a1ca-f088b9d01d82",
   "metadata": {},
   "outputs": [
    {
     "name": "stdout",
     "output_type": "stream",
     "text": [
      "NaN counts for each column:\n",
      "show_type             0\n",
      "genre                 1\n",
      "running_minutes       0\n",
      "source_language     192\n",
      "asset_id              0\n",
      "season_id          3293\n",
      "series_id          3293\n",
      "studio_id             2\n",
      "dtype: int64\n"
     ]
    }
   ],
   "source": [
    "# Finding all the nan counts\n",
    "\n",
    "nan_counts = assets.isna().sum()\n",
    "print(\"NaN counts for each column:\")\n",
    "print(nan_counts)"
   ]
  },
  {
   "cell_type": "code",
   "execution_count": 10,
   "id": "2e155f69-3fb0-437e-845b-2eac2ec10075",
   "metadata": {},
   "outputs": [
    {
     "name": "stdout",
     "output_type": "stream",
     "text": [
      "Unique values in 'show_type':\n",
      "['Movies' 'TV']\n",
      "\n",
      "\n",
      "Unique values in 'genre':\n",
      "['Sci-Fi' 'Documentary and Biography' 'Reality' 'Comedy' 'Kids'\n",
      " 'Action and Adventure' 'Drama' 'Fantasy' 'Romance' 'Horror'\n",
      " 'Crime and Mystery' 'Others' 'Lifestyle and Fashion' 'Anime' 'Thriller'\n",
      " 'Music' 'Sports' 'Adult Romance' 'Animation' 'Family' 'eSports' nan\n",
      " 'Health and Fitness' 'Live Events and Specials' 'News'\n",
      " 'Religion and Faith' 'Best of Web or Viral' 'Education' 'Extreme Sports'\n",
      " 'Game Show']\n",
      "\n",
      "\n",
      "Unique values in 'source_language':\n",
      "['English' nan 'Korean' 'Malay' 'Chinese' 'Japanese' 'Thai' 'Tagalog'\n",
      " 'Italian' 'Indonesian' 'Danish' 'Hindi' 'Vietnamese' 'Burmese' 'Arabic'\n",
      " 'Norwegian' 'Tajik' 'Afrikaans' 'French' 'Kazakh' 'Spanish; Castilian'\n",
      " 'Akan' 'Swedish' 'Hungarian' 'Urdu' 'German' 'Central Khmer' 'Kanuri'\n",
      " 'Bengali' 'Swahili' 'Portuguese' 'Turkish' 'Avaric' 'Russian'\n",
      " 'Sinhala; Sinhalese' 'Nepali' 'Esperanto' 'Dutch; Flemish' 'Tamil'\n",
      " 'Catalan; Valencian' 'Macedonian']\n",
      "\n",
      "\n"
     ]
    }
   ],
   "source": [
    "# Defining the columns I want to retrieve unique values for\n",
    "\n",
    "columns_to_check = ['show_type', 'genre', 'source_language']\n",
    "\n",
    "# Loop through each specified column and print unique values\n",
    "\n",
    "for column in columns_to_check:\n",
    "    unique_values = assets[column].unique()\n",
    "    print(f\"Unique values in '{column}':\")\n",
    "    print(unique_values)\n",
    "    print(\"\\n\")"
   ]
  },
  {
   "cell_type": "markdown",
   "id": "249b371b-f205-4707-9ca5-14b58ff3ace5",
   "metadata": {},
   "source": [
    "Here I have organized columns in show_type, genre and source_language in ascending order. Also I have replaced all the NaN values in above columns to 0 for example for a particular genre there is no data available then I'm assuming there is no movie or tv show in that gener. For rest of the columns I kept NaN as NaN.\n",
    "\n",
    "Also I want to see how frequently a genre has been viewed."
   ]
  },
  {
   "cell_type": "code",
   "execution_count": 11,
   "id": "d0bc267f-ce4c-488d-b3af-22b05bb1e9ea",
   "metadata": {},
   "outputs": [
    {
     "data": {
      "text/html": [
       "<div>\n",
       "<style scoped>\n",
       "    .dataframe tbody tr th:only-of-type {\n",
       "        vertical-align: middle;\n",
       "    }\n",
       "\n",
       "    .dataframe tbody tr th {\n",
       "        vertical-align: top;\n",
       "    }\n",
       "\n",
       "    .dataframe thead th {\n",
       "        text-align: right;\n",
       "    }\n",
       "</style>\n",
       "<table border=\"1\" class=\"dataframe\">\n",
       "  <thead>\n",
       "    <tr style=\"text-align: right;\">\n",
       "      <th></th>\n",
       "      <th>show_type</th>\n",
       "      <th>genre</th>\n",
       "      <th>source_language</th>\n",
       "      <th>running_minutes</th>\n",
       "      <th>asset_id</th>\n",
       "      <th>season_id</th>\n",
       "      <th>series_id</th>\n",
       "      <th>studio_id</th>\n",
       "    </tr>\n",
       "  </thead>\n",
       "  <tbody>\n",
       "    <tr>\n",
       "      <th>15141</th>\n",
       "      <td>Movies</td>\n",
       "      <td>0</td>\n",
       "      <td>English</td>\n",
       "      <td>6</td>\n",
       "      <td>6697</td>\n",
       "      <td>NaN</td>\n",
       "      <td>NaN</td>\n",
       "      <td>454.0</td>\n",
       "    </tr>\n",
       "    <tr>\n",
       "      <th>13800</th>\n",
       "      <td>Movies</td>\n",
       "      <td>Action and Adventure</td>\n",
       "      <td>0</td>\n",
       "      <td>96</td>\n",
       "      <td>3424</td>\n",
       "      <td>NaN</td>\n",
       "      <td>NaN</td>\n",
       "      <td>10.0</td>\n",
       "    </tr>\n",
       "    <tr>\n",
       "      <th>14040</th>\n",
       "      <td>Movies</td>\n",
       "      <td>Action and Adventure</td>\n",
       "      <td>Arabic</td>\n",
       "      <td>144</td>\n",
       "      <td>3554</td>\n",
       "      <td>NaN</td>\n",
       "      <td>NaN</td>\n",
       "      <td>140.0</td>\n",
       "    </tr>\n",
       "    <tr>\n",
       "      <th>14041</th>\n",
       "      <td>Movies</td>\n",
       "      <td>Action and Adventure</td>\n",
       "      <td>Arabic</td>\n",
       "      <td>127</td>\n",
       "      <td>3555</td>\n",
       "      <td>NaN</td>\n",
       "      <td>NaN</td>\n",
       "      <td>140.0</td>\n",
       "    </tr>\n",
       "    <tr>\n",
       "      <th>14042</th>\n",
       "      <td>Movies</td>\n",
       "      <td>Action and Adventure</td>\n",
       "      <td>Arabic</td>\n",
       "      <td>96</td>\n",
       "      <td>3612</td>\n",
       "      <td>NaN</td>\n",
       "      <td>NaN</td>\n",
       "      <td>140.0</td>\n",
       "    </tr>\n",
       "    <tr>\n",
       "      <th>...</th>\n",
       "      <td>...</td>\n",
       "      <td>...</td>\n",
       "      <td>...</td>\n",
       "      <td>...</td>\n",
       "      <td>...</td>\n",
       "      <td>...</td>\n",
       "      <td>...</td>\n",
       "      <td>...</td>\n",
       "    </tr>\n",
       "    <tr>\n",
       "      <th>16371</th>\n",
       "      <td>TV</td>\n",
       "      <td>eSports</td>\n",
       "      <td>Malay</td>\n",
       "      <td>88</td>\n",
       "      <td>11136</td>\n",
       "      <td>971.0</td>\n",
       "      <td>815.0</td>\n",
       "      <td>388.0</td>\n",
       "    </tr>\n",
       "    <tr>\n",
       "      <th>16372</th>\n",
       "      <td>TV</td>\n",
       "      <td>eSports</td>\n",
       "      <td>Malay</td>\n",
       "      <td>6</td>\n",
       "      <td>11153</td>\n",
       "      <td>973.0</td>\n",
       "      <td>817.0</td>\n",
       "      <td>388.0</td>\n",
       "    </tr>\n",
       "    <tr>\n",
       "      <th>16373</th>\n",
       "      <td>TV</td>\n",
       "      <td>eSports</td>\n",
       "      <td>Malay</td>\n",
       "      <td>8</td>\n",
       "      <td>11154</td>\n",
       "      <td>973.0</td>\n",
       "      <td>817.0</td>\n",
       "      <td>388.0</td>\n",
       "    </tr>\n",
       "    <tr>\n",
       "      <th>16374</th>\n",
       "      <td>TV</td>\n",
       "      <td>eSports</td>\n",
       "      <td>Malay</td>\n",
       "      <td>57</td>\n",
       "      <td>11155</td>\n",
       "      <td>974.0</td>\n",
       "      <td>818.0</td>\n",
       "      <td>388.0</td>\n",
       "    </tr>\n",
       "    <tr>\n",
       "      <th>16375</th>\n",
       "      <td>TV</td>\n",
       "      <td>eSports</td>\n",
       "      <td>Malay</td>\n",
       "      <td>79</td>\n",
       "      <td>11156</td>\n",
       "      <td>974.0</td>\n",
       "      <td>818.0</td>\n",
       "      <td>388.0</td>\n",
       "    </tr>\n",
       "  </tbody>\n",
       "</table>\n",
       "<p>17271 rows × 8 columns</p>\n",
       "</div>"
      ],
      "text/plain": [
       "      show_type                 genre source_language  running_minutes  \\\n",
       "15141    Movies                     0         English                6   \n",
       "13800    Movies  Action and Adventure               0               96   \n",
       "14040    Movies  Action and Adventure          Arabic              144   \n",
       "14041    Movies  Action and Adventure          Arabic              127   \n",
       "14042    Movies  Action and Adventure          Arabic               96   \n",
       "...         ...                   ...             ...              ...   \n",
       "16371        TV               eSports           Malay               88   \n",
       "16372        TV               eSports           Malay                6   \n",
       "16373        TV               eSports           Malay                8   \n",
       "16374        TV               eSports           Malay               57   \n",
       "16375        TV               eSports           Malay               79   \n",
       "\n",
       "       asset_id  season_id  series_id  studio_id  \n",
       "15141      6697        NaN        NaN      454.0  \n",
       "13800      3424        NaN        NaN       10.0  \n",
       "14040      3554        NaN        NaN      140.0  \n",
       "14041      3555        NaN        NaN      140.0  \n",
       "14042      3612        NaN        NaN      140.0  \n",
       "...         ...        ...        ...        ...  \n",
       "16371     11136      971.0      815.0      388.0  \n",
       "16372     11153      973.0      817.0      388.0  \n",
       "16373     11154      973.0      817.0      388.0  \n",
       "16374     11155      974.0      818.0      388.0  \n",
       "16375     11156      974.0      818.0      388.0  \n",
       "\n",
       "[17271 rows x 8 columns]"
      ]
     },
     "execution_count": 11,
     "metadata": {},
     "output_type": "execute_result"
    }
   ],
   "source": [
    "# Create a unique combination of 'show_type', 'genre', and 'source_language'\n",
    "combinations = assets[['show_type', 'genre', 'source_language']].drop_duplicates()\n",
    "\n",
    "# Merge with the original DataFrame to show all instances with the specified columns\n",
    "merged_data = combinations.merge(assets)\n",
    "\n",
    "# Fill missing values in the specified columns with 0\n",
    "merged_data[['show_type', 'genre', 'source_language']] = merged_data[['show_type', 'genre', 'source_language']].fillna(0)\n",
    "\n",
    "# Sort the DataFrame in ascending order by 'show_type', 'genre', and 'source_language'\n",
    "merged_data_assets = merged_data.sort_values(by=['show_type', 'genre', 'source_language'], ascending=True)\n",
    "\n",
    "# Display the result\n",
    "merged_data_assets"
   ]
  },
  {
   "cell_type": "markdown",
   "id": "c480b056-e2d0-46bf-879a-1b692a305138",
   "metadata": {},
   "source": [
    "Here I have grouped 3 columns by their frequency as I want to plot a relationship between show_type, genre, source_language"
   ]
  },
  {
   "cell_type": "code",
   "execution_count": 12,
   "id": "e404ad0b-3dcb-4803-ae28-1bf5070c5566",
   "metadata": {},
   "outputs": [
    {
     "data": {
      "text/plain": [
       "show_type  genre                 source_language\n",
       "Movies     Action and Adventure  Arabic              17\n",
       "                                 Bengali              4\n",
       "                                 Burmese              1\n",
       "                                 Chinese             69\n",
       "                                 English            220\n",
       "dtype: int64"
      ]
     },
     "execution_count": 12,
     "metadata": {},
     "output_type": "execute_result"
    }
   ],
   "source": [
    "# Group the assets DataFrame by the specified levels\n",
    "group_by_assets = assets.groupby(['show_type', 'genre', 'source_language']).size()\n",
    "\n",
    "group_by_assets.head()"
   ]
  },
  {
   "cell_type": "code",
   "execution_count": 13,
   "id": "8b4d929e-8bfa-46f3-8d9b-45a97d116a4d",
   "metadata": {},
   "outputs": [
    {
     "data": {
      "text/html": [
       "<div>\n",
       "<style scoped>\n",
       "    .dataframe tbody tr th:only-of-type {\n",
       "        vertical-align: middle;\n",
       "    }\n",
       "\n",
       "    .dataframe tbody tr th {\n",
       "        vertical-align: top;\n",
       "    }\n",
       "\n",
       "    .dataframe thead th {\n",
       "        text-align: right;\n",
       "    }\n",
       "</style>\n",
       "<table border=\"1\" class=\"dataframe\">\n",
       "  <thead>\n",
       "    <tr style=\"text-align: right;\">\n",
       "      <th></th>\n",
       "      <th>source_language</th>\n",
       "      <th>Afrikaans</th>\n",
       "      <th>Akan</th>\n",
       "      <th>Arabic</th>\n",
       "      <th>Avaric</th>\n",
       "      <th>Bengali</th>\n",
       "      <th>Burmese</th>\n",
       "      <th>Catalan; Valencian</th>\n",
       "      <th>Central Khmer</th>\n",
       "      <th>Chinese</th>\n",
       "      <th>Danish</th>\n",
       "      <th>...</th>\n",
       "      <th>Spanish; Castilian</th>\n",
       "      <th>Swahili</th>\n",
       "      <th>Swedish</th>\n",
       "      <th>Tagalog</th>\n",
       "      <th>Tajik</th>\n",
       "      <th>Tamil</th>\n",
       "      <th>Thai</th>\n",
       "      <th>Turkish</th>\n",
       "      <th>Urdu</th>\n",
       "      <th>Vietnamese</th>\n",
       "    </tr>\n",
       "    <tr>\n",
       "      <th>show_type</th>\n",
       "      <th>genre</th>\n",
       "      <th></th>\n",
       "      <th></th>\n",
       "      <th></th>\n",
       "      <th></th>\n",
       "      <th></th>\n",
       "      <th></th>\n",
       "      <th></th>\n",
       "      <th></th>\n",
       "      <th></th>\n",
       "      <th></th>\n",
       "      <th></th>\n",
       "      <th></th>\n",
       "      <th></th>\n",
       "      <th></th>\n",
       "      <th></th>\n",
       "      <th></th>\n",
       "      <th></th>\n",
       "      <th></th>\n",
       "      <th></th>\n",
       "      <th></th>\n",
       "      <th></th>\n",
       "    </tr>\n",
       "  </thead>\n",
       "  <tbody>\n",
       "    <tr>\n",
       "      <th>Movies</th>\n",
       "      <th>Action and Adventure</th>\n",
       "      <td>0</td>\n",
       "      <td>0</td>\n",
       "      <td>17</td>\n",
       "      <td>0</td>\n",
       "      <td>4</td>\n",
       "      <td>1</td>\n",
       "      <td>0</td>\n",
       "      <td>0</td>\n",
       "      <td>69</td>\n",
       "      <td>0</td>\n",
       "      <td>...</td>\n",
       "      <td>1</td>\n",
       "      <td>0</td>\n",
       "      <td>0</td>\n",
       "      <td>12</td>\n",
       "      <td>1</td>\n",
       "      <td>19</td>\n",
       "      <td>8</td>\n",
       "      <td>2</td>\n",
       "      <td>1</td>\n",
       "      <td>3</td>\n",
       "    </tr>\n",
       "  </tbody>\n",
       "</table>\n",
       "<p>1 rows × 40 columns</p>\n",
       "</div>"
      ],
      "text/plain": [
       "source_language                 Afrikaans  Akan  Arabic  Avaric  Bengali  \\\n",
       "show_type genre                                                            \n",
       "Movies    Action and Adventure          0     0      17       0        4   \n",
       "\n",
       "source_language                 Burmese  Catalan; Valencian  Central Khmer  \\\n",
       "show_type genre                                                              \n",
       "Movies    Action and Adventure        1                   0              0   \n",
       "\n",
       "source_language                 Chinese  Danish  ...  Spanish; Castilian  \\\n",
       "show_type genre                                  ...                       \n",
       "Movies    Action and Adventure       69       0  ...                   1   \n",
       "\n",
       "source_language                 Swahili  Swedish  Tagalog  Tajik  Tamil  Thai  \\\n",
       "show_type genre                                                                 \n",
       "Movies    Action and Adventure        0        0       12      1     19     8   \n",
       "\n",
       "source_language                 Turkish  Urdu  Vietnamese  \n",
       "show_type genre                                            \n",
       "Movies    Action and Adventure        2     1           3  \n",
       "\n",
       "[1 rows x 40 columns]"
      ]
     },
     "execution_count": 13,
     "metadata": {},
     "output_type": "execute_result"
    }
   ],
   "source": [
    "group_by_assets = assets.groupby(['show_type', 'genre', 'source_language']).size().unstack(fill_value=0)\n",
    "\n",
    "group_by_assets.head(1)"
   ]
  },
  {
   "cell_type": "markdown",
   "id": "7e0cbef6-ab5e-40f3-89b5-a01404109e4e",
   "metadata": {},
   "source": [
    "# demographics.csv"
   ]
  },
  {
   "cell_type": "code",
   "execution_count": 14,
   "id": "a889bbe8-72bc-4096-9181-e1f0516a846c",
   "metadata": {},
   "outputs": [
    {
     "data": {
      "text/plain": [
       "(102745, 6)"
      ]
     },
     "execution_count": 14,
     "metadata": {},
     "output_type": "execute_result"
    }
   ],
   "source": [
    "demographics.shape"
   ]
  },
  {
   "cell_type": "code",
   "execution_count": 15,
   "id": "9cd35aef-8f85-47f4-8208-3f519da85921",
   "metadata": {},
   "outputs": [
    {
     "data": {
      "text/plain": [
       "Index(['user_id', 'platform', 'level_1', 'level_2', 'level_3',\n",
       "       'confidence_score'],\n",
       "      dtype='object')"
      ]
     },
     "execution_count": 15,
     "metadata": {},
     "output_type": "execute_result"
    }
   ],
   "source": [
    "demographics.columns"
   ]
  },
  {
   "cell_type": "code",
   "execution_count": 16,
   "id": "d6638552-14f7-461a-bf7f-a3f2dd21c8e6",
   "metadata": {},
   "outputs": [
    {
     "name": "stdout",
     "output_type": "stream",
     "text": [
      "NaN counts for each column:\n",
      "user_id             0\n",
      "platform            0\n",
      "level_1             0\n",
      "level_2             0\n",
      "level_3             0\n",
      "confidence_score    0\n",
      "dtype: int64\n"
     ]
    }
   ],
   "source": [
    "# getting NaN values for each column\n",
    "\n",
    "nan_counts = demographics.isna().sum()\n",
    "print(\"NaN counts for each column:\")\n",
    "print(nan_counts)"
   ]
  },
  {
   "cell_type": "markdown",
   "id": "fac902bb-3180-4a2a-be0d-d7fc40277798",
   "metadata": {},
   "source": [
    "Here I want to plot a visualization for the following: Income, Age, Gender and see how it has changed accross the platform."
   ]
  },
  {
   "cell_type": "code",
   "execution_count": 17,
   "id": "51147860-984f-47b4-b6c4-a56e67e8b4a1",
   "metadata": {},
   "outputs": [
    {
     "name": "stdout",
     "output_type": "stream",
     "text": [
      "Unique values in 'platform':\n",
      "['android' 'iOS' 'googlecast' 'web' 'android-tv' 'web-pwa' 'Panasonic'\n",
      " 'Samsung Tizen' 'Vewd' 'webOS' 'Roku' 'COTV' 'Samsung Orsay']\n",
      "\n",
      "\n",
      "Unique values in 'level_1':\n",
      "['Demographics']\n",
      "\n",
      "\n",
      "Unique values in 'level_2':\n",
      "['Income' 'Age' 'Gender']\n",
      "\n",
      "\n",
      "Unique values in 'level_3':\n",
      "['Medium' 'Low' 'High' '25 - 34' '< 18' '18 - 24' 'Male' 'Female'\n",
      " '35 - 44' '55+' '45 - 54']\n",
      "\n",
      "\n"
     ]
    }
   ],
   "source": [
    "# Defining the columns I want to retrieve unique values for\n",
    "\n",
    "columns_to_check = ['platform', 'level_1', 'level_2', 'level_3']\n",
    "\n",
    "# Loop through each specified column and print unique values\n",
    "\n",
    "for column in columns_to_check:\n",
    "    unique_values = demographics[column].unique()\n",
    "    print(f\"Unique values in '{column}':\")\n",
    "    print(unique_values)\n",
    "    print(\"\\n\")"
   ]
  },
  {
   "cell_type": "code",
   "execution_count": 18,
   "id": "2e424ecc-bea2-4796-9ac2-5c1450f90a64",
   "metadata": {},
   "outputs": [
    {
     "name": "stdout",
     "output_type": "stream",
     "text": [
      "              user_id platform       level_1 level_2  level_3  \\\n",
      "542     1606317768818  android  Demographics     Age  25 - 34   \n",
      "558      231928234051      iOS  Demographics     Age  18 - 24   \n",
      "688      695784702029  android  Demographics     Age  18 - 24   \n",
      "952     1142461300917  android  Demographics  Gender   Female   \n",
      "986     1580547965113  android  Demographics  Gender   Female   \n",
      "...               ...      ...           ...     ...      ...   \n",
      "102740    34359738459  android  Demographics     Age  25 - 34   \n",
      "102741  1520418423157  android  Demographics     Age  18 - 24   \n",
      "102742   274877907051      iOS  Demographics     Age  25 - 34   \n",
      "102743  1382979469397  android  Demographics     Age  25 - 34   \n",
      "102744   240518168604  android  Demographics     Age  25 - 34   \n",
      "\n",
      "        confidence_score  \n",
      "542             1.000000  \n",
      "558             0.999999  \n",
      "688             0.999997  \n",
      "952             0.980183  \n",
      "986             0.983270  \n",
      "...                  ...  \n",
      "102740          1.000000  \n",
      "102741          0.999941  \n",
      "102742          0.999998  \n",
      "102743          1.000000  \n",
      "102744          1.000000  \n",
      "\n",
      "[30702 rows x 6 columns]\n",
      "Number of duplicate values: 30702\n"
     ]
    }
   ],
   "source": [
    "# Check for duplicate values in the 'country_name' column\n",
    "duplicates = demographics['user_id'].duplicated()\n",
    "\n",
    "# Display rows with duplicates\n",
    "print(demographics[duplicates])\n",
    "\n",
    "# If you want to check how many duplicate values are there:\n",
    "print(f\"Number of duplicate values: {duplicates.sum()}\")"
   ]
  },
  {
   "cell_type": "markdown",
   "id": "6b2a4b8e-5e03-46ec-9988-3e9f148fe10d",
   "metadata": {},
   "source": [
    "# psychographics"
   ]
  },
  {
   "cell_type": "code",
   "execution_count": 19,
   "id": "02519039-4a0b-4bab-88d4-82947680a43f",
   "metadata": {},
   "outputs": [
    {
     "data": {
      "text/plain": [
       "(475089, 6)"
      ]
     },
     "execution_count": 19,
     "metadata": {},
     "output_type": "execute_result"
    }
   ],
   "source": [
    "psychographics.shape"
   ]
  },
  {
   "cell_type": "code",
   "execution_count": 20,
   "id": "a10a12aa-e24e-4f7b-8f74-c6e656fee927",
   "metadata": {},
   "outputs": [
    {
     "data": {
      "text/plain": [
       "Index(['user_id', 'platform', 'level_1', 'level_2', 'level_3',\n",
       "       'confidence_score'],\n",
       "      dtype='object')"
      ]
     },
     "execution_count": 20,
     "metadata": {},
     "output_type": "execute_result"
    }
   ],
   "source": [
    "psychographics.columns"
   ]
  },
  {
   "cell_type": "code",
   "execution_count": 21,
   "id": "5e4f1714-8e24-4e8c-97e9-b19abe57e334",
   "metadata": {},
   "outputs": [
    {
     "name": "stdout",
     "output_type": "stream",
     "text": [
      "NaN counts for each column:\n",
      "user_id                0\n",
      "platform               0\n",
      "level_1                0\n",
      "level_2                0\n",
      "level_3             7747\n",
      "confidence_score       0\n",
      "dtype: int64\n"
     ]
    }
   ],
   "source": [
    "nan_counts = psychographics.isna().sum()\n",
    "print(\"NaN counts for each column:\")\n",
    "print(nan_counts)"
   ]
  },
  {
   "cell_type": "code",
   "execution_count": 22,
   "id": "e2bbffb2-5bd7-417d-8310-70a01f26550e",
   "metadata": {},
   "outputs": [
    {
     "name": "stdout",
     "output_type": "stream",
     "text": [
      "Unique values in 'platform':\n",
      "['android' 'android-tv' 'web' 'iOS' 'web-embed' 'Vewd' 'web-pwa'\n",
      " 'Samsung Tizen' 'webOS' 'googlecast' 'Panasonic' 'Roku' 'Samsung Orsay'\n",
      " 'Netrange' 'COTV']\n",
      "\n",
      "\n",
      "Unique values in 'level_1':\n",
      "['Psychographics']\n",
      "\n",
      "\n",
      "Unique values in 'level_2':\n",
      "['Social Media Fans' 'Movies Lovers' 'Mobile Enthusiasts' 'TV Lovers'\n",
      " 'Sports Fans' 'Music Lovers' 'iflix Viewing Behaviour' 'Travellers'\n",
      " 'News Junkies & Avid Readers']\n",
      "\n",
      "\n",
      "Unique values in 'level_3':\n",
      "['\\\\\"\\\\\"' 'Romance Movies Fans' 'Comedy Movies Fans' 'Horror Movies Fans'\n",
      " 'Action and Adventure Movies Fans' 'Family Movies Fans'\n",
      " 'Drama Movies Fans' 'Religion and Faith Movies Fans' 'Kids Movies Fans'\n",
      " 'Thriller Movies Fans' 'Sci-Fi Movies Fans' 'Fantasy Movies Fans'\n",
      " 'Others Movies Fans' 'English Movies Fans' 'Indonesian Movies Fans'\n",
      " 'Tagalog Movies Fans' 'Thai Movies Fans' 'Hindi Movies Fans'\n",
      " 'Nepali Movies Fans' 'Korean Movies Fans' 'Vietnamese Movies Fans'\n",
      " 'High Data Users' 'Comedy TV Fans' 'Anime TV Fans' 'Drama TV Fans'\n",
      " 'Romance TV Fans' 'Action and Adventure TV Fans' 'Kids TV Fans'\n",
      " 'Fantasy TV Fans' 'Sports TV Fans' 'Others TV Fans' 'Reality TV Fans'\n",
      " 'Korean TV Fans' 'Malay TV Fans' 'English TV Fans' 'Indonesian TV Fans'\n",
      " 'Japanese TV Fans' 'Chinese TV Fans' 'Tagalog TV Fans' 'Thai TV Fans'\n",
      " 'Arabic TV Fans' 'Malay Movies Fans' 'Burmese Movies Fans'\n",
      " 'Chinese Movies Fans' 'Bengali Movies Fans' 'Central Khmer Movies Fans'\n",
      " 'Portuguese Movies Fans' 'Downloaders' nan 'casual' 'addict' 'player'\n",
      " 'Reality Movies Fans' 'Music Movies Fans'\n",
      " 'Documentary and Biography Movies Fans' 'Crime and Mystery Movies Fans'\n",
      " 'International Travellers' 'Local Commuters' 'Animation TV Fans'\n",
      " 'Spanish; Castilian Movies Fans' 'French Movies Fans' 'News Movies Fans'\n",
      " 'Horror TV Fans' 'Documentary and Biography TV Fans'\n",
      " 'Crime and Mystery TV Fans' 'Italian TV Fans' 'Nepali TV Fans'\n",
      " 'Dutch; Flemish TV Fans' 'Urdu Movies Fans' 'Danish Movies Fans'\n",
      " 'Adult Romance Movies Fans' 'Hungarian Movies Fans' 'Tamil Movies Fans'\n",
      " 'Education Movies Fans' 'Anime Movies Fans' 'Animation Movies Fans'\n",
      " 'Japanese Movies Fans' 'Sports Movies Fans' 'News TV Fans'\n",
      " 'Turkish Movies Fans' 'Game Show TV Fans' 'Lifestyle and Fashion TV Fans'\n",
      " 'Arabic Movies Fans' 'Music TV Fans' 'Urdu TV Fans' 'French TV Fans'\n",
      " 'Bengali TV Fans' 'Hindi TV Fans' 'Kanuri TV Fans' 'eSports Movies Fans'\n",
      " 'Burmese TV Fans' 'Sinhala; Sinhalese TV Fans'\n",
      " 'Lifestyle and Fashion Movies Fans' 'Tajik Movies Fans'\n",
      " 'Norwegian Movies Fans' 'Religion and Faith TV Fans' 'Family TV Fans'\n",
      " 'Extreme Sports Movies Fans' 'Education TV Fans'\n",
      " 'Best of Web or Viral TV Fans' 'Sci-Fi TV Fans'\n",
      " 'Health and Fitness Movies Fans' 'eSports TV Fans'\n",
      " 'Spanish; Castilian TV Fans' 'Central Khmer TV Fans' 'Akan Movies Fans'\n",
      " 'Live Events and Specials Movies Fans' 'Thriller TV Fans'\n",
      " 'Italian Movies Fans' 'Afrikaans TV Fans' 'Kazakh Movies Fans'\n",
      " 'Best of Web or Viral Movies Fans' 'Afrikaans Movies Fans'\n",
      " 'Swahili TV Fans' 'Catalan; Valencian TV Fans' 'Swedish Movies Fans'\n",
      " 'Avaric TV Fans' 'Russian Movies Fans' 'Macedonian Movies Fans'\n",
      " 'Norwegian TV Fans' 'Vietnamese TV Fans' 'German TV Fans']\n",
      "\n",
      "\n"
     ]
    }
   ],
   "source": [
    "# Defining the columns I want to retrieve unique values for\n",
    "\n",
    "columns_to_check = ['platform', 'level_1', 'level_2', 'level_3']\n",
    "\n",
    "# Loop through each specified column and print unique values\n",
    "\n",
    "for column in columns_to_check:\n",
    "    unique_values = psychographics[column].unique()\n",
    "    print(f\"Unique values in '{column}':\")\n",
    "    print(unique_values)\n",
    "    print(\"\\n\")"
   ]
  },
  {
   "cell_type": "code",
   "execution_count": 23,
   "id": "bf069248-cf4f-4e44-9ccb-2dc87d723cb6",
   "metadata": {},
   "outputs": [
    {
     "name": "stdout",
     "output_type": "stream",
     "text": [
      "              user_id    platform         level_1                  level_2  \\\n",
      "37       137438953840     android  Psychographics            Movies Lovers   \n",
      "208     1391569404252     android  Psychographics       Mobile Enthusiasts   \n",
      "705      386547056820     android  Psychographics  iflix Viewing Behaviour   \n",
      "732     1133871366223     android  Psychographics  iflix Viewing Behaviour   \n",
      "826      858993459349     android  Psychographics            Movies Lovers   \n",
      "...               ...         ...             ...                      ...   \n",
      "475084  1228360646659  android-tv  Psychographics                TV Lovers   \n",
      "475085   214748365245     android  Psychographics       Mobile Enthusiasts   \n",
      "475086   953482739908     android  Psychographics       Mobile Enthusiasts   \n",
      "475087   712964571361     android  Psychographics       Mobile Enthusiasts   \n",
      "475088   360777252917     android  Psychographics       Mobile Enthusiasts   \n",
      "\n",
      "                   level_3  confidence_score  \n",
      "37      Comedy Movies Fans              0.81  \n",
      "208        High Data Users              0.43  \n",
      "705                 casual              1.00  \n",
      "732                 player              1.00  \n",
      "826     Comedy Movies Fans              0.98  \n",
      "...                    ...               ...  \n",
      "475084       Malay TV Fans              0.69  \n",
      "475085         Downloaders              0.51  \n",
      "475086         Downloaders              0.72  \n",
      "475087         Downloaders              0.25  \n",
      "475088         Downloaders              0.65  \n",
      "\n",
      "[364450 rows x 6 columns]\n",
      "Number of duplicate values: 364450\n"
     ]
    }
   ],
   "source": [
    "# Check for duplicate values in the 'country_name' column\n",
    "duplicates = psychographics['user_id'].duplicated()\n",
    "\n",
    "# Display rows with duplicates\n",
    "print(psychographics[duplicates])\n",
    "\n",
    "# If you want to check how many duplicate values are there:\n",
    "print(f\"Number of duplicate values: {duplicates.sum()}\")"
   ]
  },
  {
   "cell_type": "markdown",
   "id": "7fe7d6dc-127c-4efb-9a2e-f6ebd6496044",
   "metadata": {},
   "source": [
    "# plays"
   ]
  },
  {
   "cell_type": "code",
   "execution_count": 24,
   "id": "2f861405-c740-4c2d-920b-d846ebe42a26",
   "metadata": {},
   "outputs": [
    {
     "data": {
      "text/plain": [
       "(542157, 4)"
      ]
     },
     "execution_count": 24,
     "metadata": {},
     "output_type": "execute_result"
    }
   ],
   "source": [
    "plays.shape"
   ]
  },
  {
   "cell_type": "code",
   "execution_count": 25,
   "id": "b9df884c-f3d8-4053-b362-058f796de205",
   "metadata": {},
   "outputs": [
    {
     "data": {
      "text/plain": [
       "Index(['user_id', 'platform', 'asset_id', 'minutes_viewed'], dtype='object')"
      ]
     },
     "execution_count": 25,
     "metadata": {},
     "output_type": "execute_result"
    }
   ],
   "source": [
    "plays.columns"
   ]
  },
  {
   "cell_type": "code",
   "execution_count": 26,
   "id": "6b0808f7-bcaf-488a-a4ad-6e77edd00cf7",
   "metadata": {},
   "outputs": [
    {
     "name": "stdout",
     "output_type": "stream",
     "text": [
      "NaN counts for each column:\n",
      "user_id           0\n",
      "platform          0\n",
      "asset_id          0\n",
      "minutes_viewed    0\n",
      "dtype: int64\n"
     ]
    }
   ],
   "source": [
    "nan_counts = plays.isna().sum()\n",
    "print(\"NaN counts for each column:\")\n",
    "print(nan_counts)"
   ]
  },
  {
   "cell_type": "code",
   "execution_count": 27,
   "id": "31cfca31-6e9c-410f-8995-bf998376c774",
   "metadata": {},
   "outputs": [
    {
     "data": {
      "text/plain": [
       "array(['android', 'iOS', 'android-tv', 'web', 'webOS', 'web-embed',\n",
       "       'Samsung Tizen', 'Samsung Orsay', 'Vewd', 'googlecast', 'web-pwa',\n",
       "       'Roku', 'Panasonic', 'Netrange'], dtype=object)"
      ]
     },
     "execution_count": 27,
     "metadata": {},
     "output_type": "execute_result"
    }
   ],
   "source": [
    "plays['platform'].unique()"
   ]
  },
  {
   "cell_type": "markdown",
   "id": "c762cf81-8817-4205-84a5-18f35833f216",
   "metadata": {},
   "source": [
    "# user"
   ]
  },
  {
   "cell_type": "code",
   "execution_count": 28,
   "id": "e0c560b2-55c4-4e0e-9f44-98c6dfbefcec",
   "metadata": {},
   "outputs": [
    {
     "data": {
      "text/plain": [
       "(110639, 2)"
      ]
     },
     "execution_count": 28,
     "metadata": {},
     "output_type": "execute_result"
    }
   ],
   "source": [
    "user.shape"
   ]
  },
  {
   "cell_type": "code",
   "execution_count": 29,
   "id": "bb9954e9-ce84-48b6-9284-cfb3abc88f93",
   "metadata": {},
   "outputs": [
    {
     "data": {
      "text/plain": [
       "Index(['user_id', 'country_code'], dtype='object')"
      ]
     },
     "execution_count": 29,
     "metadata": {},
     "output_type": "execute_result"
    }
   ],
   "source": [
    "user.columns"
   ]
  },
  {
   "cell_type": "code",
   "execution_count": 30,
   "id": "0d710cc0-b6fa-4750-9af2-55f0b251f1ae",
   "metadata": {},
   "outputs": [
    {
     "name": "stdout",
     "output_type": "stream",
     "text": [
      "NaN counts for each column:\n",
      "user_id         0\n",
      "country_code    0\n",
      "dtype: int64\n"
     ]
    }
   ],
   "source": [
    "nan_counts = user.isna().sum()\n",
    "print(\"NaN counts for each column:\")\n",
    "print(nan_counts)"
   ]
  },
  {
   "cell_type": "markdown",
   "id": "f94aee76-5d00-4001-a117-48782707cbcd",
   "metadata": {},
   "source": [
    "Here I'm trying merge this dataset with the assets.csv to get details about what shows are frequently viewed in which country, so on and so forth."
   ]
  },
  {
   "cell_type": "code",
   "execution_count": 31,
   "id": "a4f07b5c-a352-405c-b36e-2fe3a4ff46ee",
   "metadata": {},
   "outputs": [
    {
     "data": {
      "text/plain": [
       "array(['ID', 'MY', 'PH', 'TH', 'PK', 'BD', 'MM', 'VN', 'KH', 'NP', 'MV',\n",
       "       'EG', 'SA', 'MA', 'LK', 'IQ', 'TZ', 'UG', 'KE', 'GH', 'NG', 'SD',\n",
       "       'ZW', 'LA', 'BH', 'BN', 'SG', 'ET', 'KW', 'JO', 'MU', 'LB', 'US',\n",
       "       'ZM', 'JP', 'IN', 'KR', 'GB', 'QA', 'TN'], dtype=object)"
      ]
     },
     "execution_count": 31,
     "metadata": {},
     "output_type": "execute_result"
    }
   ],
   "source": [
    "user['country_code'].unique()"
   ]
  },
  {
   "cell_type": "code",
   "execution_count": 32,
   "id": "85d56099-92b5-46a5-90f2-e6effd291b31",
   "metadata": {},
   "outputs": [
    {
     "data": {
      "text/html": [
       "<div>\n",
       "<style scoped>\n",
       "    .dataframe tbody tr th:only-of-type {\n",
       "        vertical-align: middle;\n",
       "    }\n",
       "\n",
       "    .dataframe tbody tr th {\n",
       "        vertical-align: top;\n",
       "    }\n",
       "\n",
       "    .dataframe thead th {\n",
       "        text-align: right;\n",
       "    }\n",
       "</style>\n",
       "<table border=\"1\" class=\"dataframe\">\n",
       "  <thead>\n",
       "    <tr style=\"text-align: right;\">\n",
       "      <th></th>\n",
       "      <th>user_id</th>\n",
       "      <th>country_code</th>\n",
       "    </tr>\n",
       "  </thead>\n",
       "  <tbody>\n",
       "    <tr>\n",
       "      <th>0</th>\n",
       "      <td>781684047872</td>\n",
       "      <td>Indonesia</td>\n",
       "    </tr>\n",
       "  </tbody>\n",
       "</table>\n",
       "</div>"
      ],
      "text/plain": [
       "        user_id country_code\n",
       "0  781684047872    Indonesia"
      ]
     },
     "execution_count": 32,
     "metadata": {},
     "output_type": "execute_result"
    }
   ],
   "source": [
    "# Create a dictionary to map country codes to their full names\n",
    "country_name = {\n",
    "    'ID': 'Indonesia',\n",
    "    'MY': 'Malaysia',\n",
    "    'PH': 'Philippines',\n",
    "    'TH': 'Thailand',\n",
    "    'PK': 'Pakistan',\n",
    "    'BD': 'Bangladesh',\n",
    "    'MM': 'Myanmar',\n",
    "    'VN': 'Vietnam',\n",
    "    'KH': 'Cambodia',\n",
    "    'NP': 'Nepal',\n",
    "    'MV': 'Maldives',\n",
    "    'EG': 'Egypt',\n",
    "    'SA': 'Saudi Arabia',\n",
    "    'MA': 'Morocco',\n",
    "    'LK': 'Sri Lanka',\n",
    "    'IQ': 'Iraq',\n",
    "    'TZ': 'Tanzania',\n",
    "    'UG': 'Uganda',\n",
    "    'KE': 'Kenya',\n",
    "    'GH': 'Ghana',\n",
    "    'NG': 'Nigeria',\n",
    "    'SD': 'Sudan',\n",
    "    'ZW': 'Zimbabwe',\n",
    "    'LA': 'Laos',\n",
    "    'BH': 'Bahrain',\n",
    "    'BN': 'Brunei',\n",
    "    'SG': 'Singapore',\n",
    "    'ET': 'Ethiopia',\n",
    "    'KW': 'Kuwait',\n",
    "    'JO': 'Jordan',\n",
    "    'MU': 'Mauritius',\n",
    "    'LB': 'Lebanon',\n",
    "    'US': 'United States',\n",
    "    'ZM': 'Zambia',\n",
    "    'JP': 'Japan',\n",
    "    'IN': 'India',\n",
    "    'KR': 'South Korea',\n",
    "    'GB': 'United Kingdom',\n",
    "    'QA': 'Qatar',\n",
    "    'TN': 'Tunisia'\n",
    "}\n",
    "\n",
    "# Replace the country codes in the 'country_code' column\n",
    "user['country_code'] = user['country_code'].replace(country_name)\n",
    "\n",
    "# Display the updated DataFrame\n",
    "user.head(1)"
   ]
  },
  {
   "cell_type": "code",
   "execution_count": 33,
   "id": "896dd8e0-e915-4df5-939e-9731b9de2130",
   "metadata": {},
   "outputs": [
    {
     "data": {
      "text/html": [
       "<div>\n",
       "<style scoped>\n",
       "    .dataframe tbody tr th:only-of-type {\n",
       "        vertical-align: middle;\n",
       "    }\n",
       "\n",
       "    .dataframe tbody tr th {\n",
       "        vertical-align: top;\n",
       "    }\n",
       "\n",
       "    .dataframe thead th {\n",
       "        text-align: right;\n",
       "    }\n",
       "</style>\n",
       "<table border=\"1\" class=\"dataframe\">\n",
       "  <thead>\n",
       "    <tr style=\"text-align: right;\">\n",
       "      <th></th>\n",
       "      <th>user_id</th>\n",
       "      <th>country_name</th>\n",
       "    </tr>\n",
       "  </thead>\n",
       "  <tbody>\n",
       "    <tr>\n",
       "      <th>0</th>\n",
       "      <td>781684047872</td>\n",
       "      <td>Indonesia</td>\n",
       "    </tr>\n",
       "  </tbody>\n",
       "</table>\n",
       "</div>"
      ],
      "text/plain": [
       "        user_id country_name\n",
       "0  781684047872    Indonesia"
      ]
     },
     "execution_count": 33,
     "metadata": {},
     "output_type": "execute_result"
    }
   ],
   "source": [
    "# changing the column name\n",
    "\n",
    "user.rename(columns={'country_code': 'country_name'}, inplace=True)\n",
    "user.head(1)"
   ]
  },
  {
   "cell_type": "code",
   "execution_count": 34,
   "id": "6c585a2e-f9d2-493e-ab41-d040bb61ca59",
   "metadata": {},
   "outputs": [
    {
     "name": "stdout",
     "output_type": "stream",
     "text": [
      "              user_id country_name\n",
      "2        781684047874    Indonesia\n",
      "3        781684047875    Indonesia\n",
      "4        781684047876    Indonesia\n",
      "5        781684047877    Indonesia\n",
      "6        781684047878    Indonesia\n",
      "...               ...          ...\n",
      "110634  1494648619559   Bangladesh\n",
      "110635  1494648619560    Indonesia\n",
      "110636  1494648619561    Indonesia\n",
      "110637  1494648619562    Indonesia\n",
      "110638  1494648619563        Nepal\n",
      "\n",
      "[110599 rows x 2 columns]\n",
      "Number of duplicate values: 110599\n"
     ]
    }
   ],
   "source": [
    "# Check for duplicate values in the 'country_name' column\n",
    "duplicates = user['country_name'].duplicated()\n",
    "\n",
    "# Display rows with duplicates\n",
    "print(user[duplicates])\n",
    "\n",
    "# If you want to check how many duplicate values are there:\n",
    "print(f\"Number of duplicate values: {duplicates.sum()}\")"
   ]
  },
  {
   "cell_type": "markdown",
   "id": "f19e52f5-61be-499c-87b9-eaa404727e6b",
   "metadata": {},
   "source": [
    "\n",
    "By now I have understood my data well enough to realize what kind of basic analysis I want to do for now and in order to reach here I have focused the data reorganizing process by making it more understandable to me, which included stacking data in levels so I can see it properly how data has been grouped, renaming some columns for better understanding, by getting rid of some of the NaN values. By doing so, the data is now clearer and will be easier to visualize due to it's improved interpretability of visual outputs. Future visualizations will be supported by this work, which will enable me to develop meaningful graphs and dashboards that highlight the most important features of the data. Now that I can understand my dataset properlly, I want to address some of the initial questions that I can and want to address for now.\n",
    "\n",
    "1. What is the frequency of different genre being viwed by different age group, income group, country?\n",
    "2. What are the average number of data being viewed by sections of society?\n",
    "3. Which platform are the most most used and where?\n",
    "\n",
    "I might find some additional questions to be asked if i will find any more relationship in the data.\n",
    "\n",
    "Overall I am satisfied with my milestone and feel confident enough to move forward with this project."
   ]
  },
  {
   "cell_type": "code",
   "execution_count": null,
   "id": "6f584066-e271-4c3d-b2a0-bebe3350ba12",
   "metadata": {},
   "outputs": [],
   "source": []
  }
 ],
 "metadata": {
  "kernelspec": {
   "display_name": "Python 3 (ipykernel)",
   "language": "python",
   "name": "python3"
  },
  "language_info": {
   "codemirror_mode": {
    "name": "ipython",
    "version": 3
   },
   "file_extension": ".py",
   "mimetype": "text/x-python",
   "name": "python",
   "nbconvert_exporter": "python",
   "pygments_lexer": "ipython3",
   "version": "3.12.4"
  }
 },
 "nbformat": 4,
 "nbformat_minor": 5
}
